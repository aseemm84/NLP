{
 "cells": [
  {
   "cell_type": "markdown",
   "id": "05d69ead",
   "metadata": {
    "papermill": {
     "duration": 0.017987,
     "end_time": "2024-04-07T07:09:44.371352",
     "exception": false,
     "start_time": "2024-04-07T07:09:44.353365",
     "status": "completed"
    },
    "tags": []
   },
   "source": [
    "# Import Libraries"
   ]
  },
  {
   "cell_type": "code",
   "execution_count": 2,
   "id": "27c0cfde",
   "metadata": {
    "execution": {
     "iopub.execute_input": "2024-04-07T07:09:44.413237Z",
     "iopub.status.busy": "2024-04-07T07:09:44.412568Z",
     "iopub.status.idle": "2024-04-07T07:09:59.293385Z",
     "shell.execute_reply": "2024-04-07T07:09:59.291798Z"
    },
    "papermill": {
     "duration": 14.90437,
     "end_time": "2024-04-07T07:09:59.296817",
     "exception": false,
     "start_time": "2024-04-07T07:09:44.392447",
     "status": "completed"
    },
    "tags": []
   },
   "outputs": [],
   "source": [
    "\n",
    "\n",
    "# Libraries to help with reading and manipulating data\n",
    "import numpy as np # linear algebra\n",
    "import pandas as pd # data processing, CSV file I/O (e.g. pd.read_csv)\n",
    "\n",
    "from kaggle.api.kaggle_api_extended import KaggleApi\n",
    "\n",
    "# libaries to help with data visualization\n",
    "import matplotlib.pyplot as plt\n",
    "%matplotlib inline\n",
    "import seaborn as sns\n",
    "\n",
    "# libraries for data pre-processing, model building, tuning and evaluation\n",
    "from sklearn.preprocessing import MinMaxScaler\n",
    "from sklearn.model_selection import train_test_split\n",
    "from sklearn.metrics import classification_report\n",
    "#from sklearn.pipeline import Pipeline\n",
    "from imblearn.pipeline import make_pipeline\n",
    "from sklearn.model_selection import GridSearchCV\n",
    "from sklearn.tree import DecisionTreeClassifier\n",
    "from sklearn.ensemble import RandomForestClassifier\n",
    "from sklearn.linear_model import LogisticRegression\n",
    "from sklearn.ensemble import AdaBoostClassifier\n",
    "from xgboost import XGBClassifier\n",
    "from sklearn.naive_bayes import MultinomialNB\n",
    "# Libraries to get diferent metric scores\n",
    "from sklearn.metrics import (\n",
    "    f1_score,\n",
    "    accuracy_score,\n",
    "    recall_score,\n",
    "    precision_score,\n",
    "    confusion_matrix,\n",
    "    classification_report,\n",
    "    roc_auc_score,\n",
    "    precision_recall_curve,\n",
    "    roc_curve,\n",
    "    make_scorer\n",
    ")\n",
    "\n",
    "# feature engineering\n",
    "from sklearn.feature_extraction.text import CountVectorizer\n",
    "from sklearn.feature_extraction.text import TfidfTransformer\n",
    "\n",
    "# nlp related libraries\n",
    "import spacy\n",
    "from spacy.lang.en.stop_words import STOP_WORDS\n",
    "nlp = spacy.load('en_core_web_lg')\n",
    "\n",
    "# for data imabalance\n",
    "import imblearn\n",
    "from imblearn.over_sampling import SMOTE"
   ]
  },
  {
   "cell_type": "code",
   "execution_count": 3,
   "id": "e741e762",
   "metadata": {
    "execution": {
     "iopub.execute_input": "2024-04-07T07:09:59.336192Z",
     "iopub.status.busy": "2024-04-07T07:09:59.335536Z",
     "iopub.status.idle": "2024-04-07T07:09:59.346488Z",
     "shell.execute_reply": "2024-04-07T07:09:59.345421Z"
    },
    "papermill": {
     "duration": 0.032953,
     "end_time": "2024-04-07T07:09:59.349168",
     "exception": false,
     "start_time": "2024-04-07T07:09:59.316215",
     "status": "completed"
    },
    "tags": []
   },
   "outputs": [],
   "source": [
    "# Colors used in the visualisations\n",
    "colors = ['lavender','indigo']\n",
    "cmap = sns.color_palette('Purples', as_cmap=True)\n",
    "pal = sns.set_palette('Purples')"
   ]
  },
  {
   "cell_type": "markdown",
   "id": "cb889723",
   "metadata": {
    "papermill": {
     "duration": 0.018112,
     "end_time": "2024-04-07T07:09:59.385704",
     "exception": false,
     "start_time": "2024-04-07T07:09:59.367592",
     "status": "completed"
    },
    "tags": []
   },
   "source": [
    "# Read Data"
   ]
  },
  {
   "cell_type": "code",
   "execution_count": 4,
   "id": "87fe2a04",
   "metadata": {
    "execution": {
     "iopub.execute_input": "2024-04-07T07:09:59.425711Z",
     "iopub.status.busy": "2024-04-07T07:09:59.424312Z",
     "iopub.status.idle": "2024-04-07T07:10:06.880825Z",
     "shell.execute_reply": "2024-04-07T07:10:06.879455Z"
    },
    "papermill": {
     "duration": 7.480174,
     "end_time": "2024-04-07T07:10:06.884566",
     "exception": false,
     "start_time": "2024-04-07T07:09:59.404392",
     "status": "completed"
    },
    "tags": []
   },
   "outputs": [],
   "source": [
    "# Read data\n",
    "api = KaggleApi()\n",
    "api.authenticate()\n",
    "api.dataset_download_files('saurabhshahane/fake-news-classification', unzip=True)\n",
    "df = pd.read_csv('WELFake_Dataset.csv')"
   ]
  },
  {
   "cell_type": "code",
   "execution_count": 5,
   "id": "cd49b105",
   "metadata": {
    "execution": {
     "iopub.execute_input": "2024-04-07T07:10:06.924771Z",
     "iopub.status.busy": "2024-04-07T07:10:06.924354Z",
     "iopub.status.idle": "2024-04-07T07:10:06.944925Z",
     "shell.execute_reply": "2024-04-07T07:10:06.943719Z"
    },
    "papermill": {
     "duration": 0.043953,
     "end_time": "2024-04-07T07:10:06.947610",
     "exception": false,
     "start_time": "2024-04-07T07:10:06.903657",
     "status": "completed"
    },
    "tags": []
   },
   "outputs": [
    {
     "data": {
      "text/html": [
       "<div>\n",
       "<style scoped>\n",
       "    .dataframe tbody tr th:only-of-type {\n",
       "        vertical-align: middle;\n",
       "    }\n",
       "\n",
       "    .dataframe tbody tr th {\n",
       "        vertical-align: top;\n",
       "    }\n",
       "\n",
       "    .dataframe thead th {\n",
       "        text-align: right;\n",
       "    }\n",
       "</style>\n",
       "<table border=\"1\" class=\"dataframe\">\n",
       "  <thead>\n",
       "    <tr style=\"text-align: right;\">\n",
       "      <th></th>\n",
       "      <th>Unnamed: 0</th>\n",
       "      <th>title</th>\n",
       "      <th>text</th>\n",
       "      <th>label</th>\n",
       "    </tr>\n",
       "  </thead>\n",
       "  <tbody>\n",
       "    <tr>\n",
       "      <th>0</th>\n",
       "      <td>0</td>\n",
       "      <td>LAW ENFORCEMENT ON HIGH ALERT Following Threat...</td>\n",
       "      <td>No comment is expected from Barack Obama Membe...</td>\n",
       "      <td>1</td>\n",
       "    </tr>\n",
       "    <tr>\n",
       "      <th>1</th>\n",
       "      <td>1</td>\n",
       "      <td>NaN</td>\n",
       "      <td>Did they post their votes for Hillary already?</td>\n",
       "      <td>1</td>\n",
       "    </tr>\n",
       "    <tr>\n",
       "      <th>2</th>\n",
       "      <td>2</td>\n",
       "      <td>UNBELIEVABLE! OBAMA’S ATTORNEY GENERAL SAYS MO...</td>\n",
       "      <td>Now, most of the demonstrators gathered last ...</td>\n",
       "      <td>1</td>\n",
       "    </tr>\n",
       "    <tr>\n",
       "      <th>3</th>\n",
       "      <td>3</td>\n",
       "      <td>Bobby Jindal, raised Hindu, uses story of Chri...</td>\n",
       "      <td>A dozen politically active pastors came here f...</td>\n",
       "      <td>0</td>\n",
       "    </tr>\n",
       "    <tr>\n",
       "      <th>4</th>\n",
       "      <td>4</td>\n",
       "      <td>SATAN 2: Russia unvelis an image of its terrif...</td>\n",
       "      <td>The RS-28 Sarmat missile, dubbed Satan 2, will...</td>\n",
       "      <td>1</td>\n",
       "    </tr>\n",
       "  </tbody>\n",
       "</table>\n",
       "</div>"
      ],
      "text/plain": [
       "   Unnamed: 0                                              title  \\\n",
       "0           0  LAW ENFORCEMENT ON HIGH ALERT Following Threat...   \n",
       "1           1                                                NaN   \n",
       "2           2  UNBELIEVABLE! OBAMA’S ATTORNEY GENERAL SAYS MO...   \n",
       "3           3  Bobby Jindal, raised Hindu, uses story of Chri...   \n",
       "4           4  SATAN 2: Russia unvelis an image of its terrif...   \n",
       "\n",
       "                                                text  label  \n",
       "0  No comment is expected from Barack Obama Membe...      1  \n",
       "1     Did they post their votes for Hillary already?      1  \n",
       "2   Now, most of the demonstrators gathered last ...      1  \n",
       "3  A dozen politically active pastors came here f...      0  \n",
       "4  The RS-28 Sarmat missile, dubbed Satan 2, will...      1  "
      ]
     },
     "execution_count": 5,
     "metadata": {},
     "output_type": "execute_result"
    }
   ],
   "source": [
    "df.head()"
   ]
  },
  {
   "cell_type": "markdown",
   "id": "2730ed59",
   "metadata": {
    "papermill": {
     "duration": 0.018193,
     "end_time": "2024-04-07T07:10:06.984577",
     "exception": false,
     "start_time": "2024-04-07T07:10:06.966384",
     "status": "completed"
    },
    "tags": []
   },
   "source": [
    "# Data Cleaning"
   ]
  },
  {
   "cell_type": "code",
   "execution_count": 6,
   "id": "107aaae7",
   "metadata": {
    "execution": {
     "iopub.execute_input": "2024-04-07T07:10:07.024821Z",
     "iopub.status.busy": "2024-04-07T07:10:07.024421Z",
     "iopub.status.idle": "2024-04-07T07:10:07.048601Z",
     "shell.execute_reply": "2024-04-07T07:10:07.045487Z"
    },
    "papermill": {
     "duration": 0.047854,
     "end_time": "2024-04-07T07:10:07.051478",
     "exception": false,
     "start_time": "2024-04-07T07:10:07.003624",
     "status": "completed"
    },
    "tags": []
   },
   "outputs": [
    {
     "data": {
      "text/html": [
       "<div>\n",
       "<style scoped>\n",
       "    .dataframe tbody tr th:only-of-type {\n",
       "        vertical-align: middle;\n",
       "    }\n",
       "\n",
       "    .dataframe tbody tr th {\n",
       "        vertical-align: top;\n",
       "    }\n",
       "\n",
       "    .dataframe thead th {\n",
       "        text-align: right;\n",
       "    }\n",
       "</style>\n",
       "<table border=\"1\" class=\"dataframe\">\n",
       "  <thead>\n",
       "    <tr style=\"text-align: right;\">\n",
       "      <th></th>\n",
       "      <th>title</th>\n",
       "      <th>text</th>\n",
       "      <th>label</th>\n",
       "    </tr>\n",
       "  </thead>\n",
       "  <tbody>\n",
       "    <tr>\n",
       "      <th>0</th>\n",
       "      <td>LAW ENFORCEMENT ON HIGH ALERT Following Threat...</td>\n",
       "      <td>No comment is expected from Barack Obama Membe...</td>\n",
       "      <td>1</td>\n",
       "    </tr>\n",
       "    <tr>\n",
       "      <th>1</th>\n",
       "      <td>NaN</td>\n",
       "      <td>Did they post their votes for Hillary already?</td>\n",
       "      <td>1</td>\n",
       "    </tr>\n",
       "    <tr>\n",
       "      <th>2</th>\n",
       "      <td>UNBELIEVABLE! OBAMA’S ATTORNEY GENERAL SAYS MO...</td>\n",
       "      <td>Now, most of the demonstrators gathered last ...</td>\n",
       "      <td>1</td>\n",
       "    </tr>\n",
       "    <tr>\n",
       "      <th>3</th>\n",
       "      <td>Bobby Jindal, raised Hindu, uses story of Chri...</td>\n",
       "      <td>A dozen politically active pastors came here f...</td>\n",
       "      <td>0</td>\n",
       "    </tr>\n",
       "    <tr>\n",
       "      <th>4</th>\n",
       "      <td>SATAN 2: Russia unvelis an image of its terrif...</td>\n",
       "      <td>The RS-28 Sarmat missile, dubbed Satan 2, will...</td>\n",
       "      <td>1</td>\n",
       "    </tr>\n",
       "  </tbody>\n",
       "</table>\n",
       "</div>"
      ],
      "text/plain": [
       "                                               title  \\\n",
       "0  LAW ENFORCEMENT ON HIGH ALERT Following Threat...   \n",
       "1                                                NaN   \n",
       "2  UNBELIEVABLE! OBAMA’S ATTORNEY GENERAL SAYS MO...   \n",
       "3  Bobby Jindal, raised Hindu, uses story of Chri...   \n",
       "4  SATAN 2: Russia unvelis an image of its terrif...   \n",
       "\n",
       "                                                text  label  \n",
       "0  No comment is expected from Barack Obama Membe...      1  \n",
       "1     Did they post their votes for Hillary already?      1  \n",
       "2   Now, most of the demonstrators gathered last ...      1  \n",
       "3  A dozen politically active pastors came here f...      0  \n",
       "4  The RS-28 Sarmat missile, dubbed Satan 2, will...      1  "
      ]
     },
     "execution_count": 6,
     "metadata": {},
     "output_type": "execute_result"
    }
   ],
   "source": [
    "df = df.drop(columns= 'Unnamed: 0')\n",
    "df.head()"
   ]
  },
  {
   "cell_type": "markdown",
   "id": "73c11bc0",
   "metadata": {
    "papermill": {
     "duration": 0.017967,
     "end_time": "2024-04-07T07:10:07.087767",
     "exception": false,
     "start_time": "2024-04-07T07:10:07.069800",
     "status": "completed"
    },
    "tags": []
   },
   "source": [
    "## Target Variable --> Fake: 1, Real: 0"
   ]
  },
  {
   "cell_type": "code",
   "execution_count": 7,
   "id": "8ae7dd86",
   "metadata": {
    "execution": {
     "iopub.execute_input": "2024-04-07T07:10:07.126427Z",
     "iopub.status.busy": "2024-04-07T07:10:07.126016Z",
     "iopub.status.idle": "2024-04-07T07:10:07.134365Z",
     "shell.execute_reply": "2024-04-07T07:10:07.132913Z"
    },
    "papermill": {
     "duration": 0.030935,
     "end_time": "2024-04-07T07:10:07.137164",
     "exception": false,
     "start_time": "2024-04-07T07:10:07.106229",
     "status": "completed"
    },
    "tags": []
   },
   "outputs": [],
   "source": [
    "df['label'] = 1 - df['label']"
   ]
  },
  {
   "cell_type": "markdown",
   "id": "9ebbd947",
   "metadata": {
    "papermill": {
     "duration": 0.018069,
     "end_time": "2024-04-07T07:10:07.173665",
     "exception": false,
     "start_time": "2024-04-07T07:10:07.155596",
     "status": "completed"
    },
    "tags": []
   },
   "source": [
    "## Understand Data"
   ]
  },
  {
   "cell_type": "code",
   "execution_count": 8,
   "id": "552c86b8",
   "metadata": {
    "execution": {
     "iopub.execute_input": "2024-04-07T07:10:07.213388Z",
     "iopub.status.busy": "2024-04-07T07:10:07.212856Z",
     "iopub.status.idle": "2024-04-07T07:10:07.232678Z",
     "shell.execute_reply": "2024-04-07T07:10:07.231115Z"
    },
    "papermill": {
     "duration": 0.043443,
     "end_time": "2024-04-07T07:10:07.235515",
     "exception": false,
     "start_time": "2024-04-07T07:10:07.192072",
     "status": "completed"
    },
    "tags": []
   },
   "outputs": [],
   "source": [
    "# function that prints head, tail, duplicated index and missing values in the data\n",
    "# function takes data frame name as input\n",
    "\n",
    "def understand_data(df):\n",
    "    \n",
    "    # View head of the data\n",
    "    print('First 5 Observations')\n",
    "    print('-'*50)\n",
    "    display(df.head())\n",
    "    \n",
    "    # View tail of the data\n",
    "    print('\\nLast 5 Observations')\n",
    "    print('-'*50)\n",
    "    display(df.tail())\n",
    "    \n",
    "    # Number of rows and columns\n",
    "    rows, columns = df.shape\n",
    "    \n",
    "    # Print number of rows and columns \n",
    "    print(\"\\nNo of rows: \", rows)\n",
    "    print(\"No of columns: \", columns)\n",
    "    \n",
    "    # Information regarding the data\n",
    "    print('\\nInformation of Data Frame')\n",
    "    print('-'*50)\n",
    "    print(df.info())\n",
    "    \n",
    "    # Checking for missing values in the data\n",
    "    print('\\nNull Values')\n",
    "    print('-'*25)\n",
    "    print(df.isnull().sum())\n",
    "    \n",
    "    \n",
    "    # check for blank values in the data\n",
    "    print('\\nBlank Values')\n",
    "    print('-'*25)\n",
    "    for i in df:\n",
    "        print(i, ':', df[df[i] == ''].shape[0])\n",
    "    \n",
    "    \n",
    "    # if there are blank values that are not read as NULL\n",
    "    # Replace blank values with null value in dataframe\n",
    "    df = df.replace({'': None})\n",
    "    \n",
    "    \n",
    "    # if there are duplicated values in the index of data\n",
    "    # means if (number or rows > number of unique values in the index)\n",
    "    if rows > df.index.nunique():\n",
    "        \n",
    "        # number of unique values in index\n",
    "        print('\\nUnique Values in Index Column')\n",
    "        print('-'*30)\n",
    "        print(df.index.nunique())\n",
    "        \n",
    "        # print duplicated index values\n",
    "        print('\\nDuplicated Index Values')\n",
    "        print('-'*30)\n",
    "        print('\\n')\n",
    "        print(f'There are {rows - df.index.nunique()} instances of duplicate')\n",
    " \n",
    "        # Username which is duplicate\n",
    "        print(df[df.index.duplicated() == True].index)\n",
    "    else:\n",
    "        print('\\n No Duplicate values in Index')\n",
    "    \n",
    "    \n",
    "    # data frame for missing values\n",
    "    miss = pd.DataFrame(data={'Missing Values': df.isna().sum()})\n",
    "    \n",
    "    # variable to check if there are any missing values\n",
    "    if_miss = 0\n",
    "    \n",
    "    # iterate through all rows in the missing values data frame\n",
    "    for row in miss['Missing Values']:\n",
    "        # if any value in the data frame is greater than 0\n",
    "        if row > 0:\n",
    "            # make if_miss variable as 1\n",
    "            if_miss = 1\n",
    "\n",
    "    print('\\n')\n",
    "    # if if_miss variable is greater than 0 (i.e. there are missing values in data)\n",
    "    if if_miss == 1:\n",
    "        \n",
    "        # plot missing values bar chart\n",
    "\n",
    "        # Percentage of null value\n",
    "        # Number of observations with null values divided by total number of observations\n",
    "        # df.isna().sum() will add all True values i.e. the number of null values\n",
    "        # df.isna().count() will count all values (both True and False) and give the total observations\n",
    "        (pd.DataFrame(data={'% of Missing Values':round(df.isna().\n",
    "                                                    sum()/df.isna().\n",
    "                                                    count()*100,2)}).\n",
    "        sort_values(by = '% of Missing Values', ascending = False).\n",
    "        plot(kind = 'bar', color = 'limegreen', figsize = (15,5), legend = False)\n",
    "        )\n",
    "\n",
    "        # title, x label and y label\n",
    "        plt.title('Missing Values in %age for Features', fontsize = 14)\n",
    "        plt.xlabel('Features', fontsize = 12)\n",
    "        plt.ylabel('Percentage', fontsize = 12)\n",
    "\n",
    "\n",
    "        # show the plot\n",
    "        plt.show()\n",
    "        \n",
    "    else:\n",
    "        print('\\nNo Missing Values')"
   ]
  },
  {
   "cell_type": "code",
   "execution_count": 9,
   "id": "dd4d3b9f",
   "metadata": {
    "execution": {
     "iopub.execute_input": "2024-04-07T07:10:07.275418Z",
     "iopub.status.busy": "2024-04-07T07:10:07.274971Z",
     "iopub.status.idle": "2024-04-07T07:10:07.966863Z",
     "shell.execute_reply": "2024-04-07T07:10:07.965890Z"
    },
    "papermill": {
     "duration": 0.714815,
     "end_time": "2024-04-07T07:10:07.969425",
     "exception": false,
     "start_time": "2024-04-07T07:10:07.254610",
     "status": "completed"
    },
    "tags": []
   },
   "outputs": [
    {
     "name": "stdout",
     "output_type": "stream",
     "text": [
      "First 5 Observations\n",
      "--------------------------------------------------\n"
     ]
    },
    {
     "data": {
      "text/html": [
       "<div>\n",
       "<style scoped>\n",
       "    .dataframe tbody tr th:only-of-type {\n",
       "        vertical-align: middle;\n",
       "    }\n",
       "\n",
       "    .dataframe tbody tr th {\n",
       "        vertical-align: top;\n",
       "    }\n",
       "\n",
       "    .dataframe thead th {\n",
       "        text-align: right;\n",
       "    }\n",
       "</style>\n",
       "<table border=\"1\" class=\"dataframe\">\n",
       "  <thead>\n",
       "    <tr style=\"text-align: right;\">\n",
       "      <th></th>\n",
       "      <th>title</th>\n",
       "      <th>text</th>\n",
       "      <th>label</th>\n",
       "    </tr>\n",
       "  </thead>\n",
       "  <tbody>\n",
       "    <tr>\n",
       "      <th>0</th>\n",
       "      <td>LAW ENFORCEMENT ON HIGH ALERT Following Threat...</td>\n",
       "      <td>No comment is expected from Barack Obama Membe...</td>\n",
       "      <td>0</td>\n",
       "    </tr>\n",
       "    <tr>\n",
       "      <th>1</th>\n",
       "      <td>NaN</td>\n",
       "      <td>Did they post their votes for Hillary already?</td>\n",
       "      <td>0</td>\n",
       "    </tr>\n",
       "    <tr>\n",
       "      <th>2</th>\n",
       "      <td>UNBELIEVABLE! OBAMA’S ATTORNEY GENERAL SAYS MO...</td>\n",
       "      <td>Now, most of the demonstrators gathered last ...</td>\n",
       "      <td>0</td>\n",
       "    </tr>\n",
       "    <tr>\n",
       "      <th>3</th>\n",
       "      <td>Bobby Jindal, raised Hindu, uses story of Chri...</td>\n",
       "      <td>A dozen politically active pastors came here f...</td>\n",
       "      <td>1</td>\n",
       "    </tr>\n",
       "    <tr>\n",
       "      <th>4</th>\n",
       "      <td>SATAN 2: Russia unvelis an image of its terrif...</td>\n",
       "      <td>The RS-28 Sarmat missile, dubbed Satan 2, will...</td>\n",
       "      <td>0</td>\n",
       "    </tr>\n",
       "  </tbody>\n",
       "</table>\n",
       "</div>"
      ],
      "text/plain": [
       "                                               title  \\\n",
       "0  LAW ENFORCEMENT ON HIGH ALERT Following Threat...   \n",
       "1                                                NaN   \n",
       "2  UNBELIEVABLE! OBAMA’S ATTORNEY GENERAL SAYS MO...   \n",
       "3  Bobby Jindal, raised Hindu, uses story of Chri...   \n",
       "4  SATAN 2: Russia unvelis an image of its terrif...   \n",
       "\n",
       "                                                text  label  \n",
       "0  No comment is expected from Barack Obama Membe...      0  \n",
       "1     Did they post their votes for Hillary already?      0  \n",
       "2   Now, most of the demonstrators gathered last ...      0  \n",
       "3  A dozen politically active pastors came here f...      1  \n",
       "4  The RS-28 Sarmat missile, dubbed Satan 2, will...      0  "
      ]
     },
     "metadata": {},
     "output_type": "display_data"
    },
    {
     "name": "stdout",
     "output_type": "stream",
     "text": [
      "\n",
      "Last 5 Observations\n",
      "--------------------------------------------------\n"
     ]
    },
    {
     "data": {
      "text/html": [
       "<div>\n",
       "<style scoped>\n",
       "    .dataframe tbody tr th:only-of-type {\n",
       "        vertical-align: middle;\n",
       "    }\n",
       "\n",
       "    .dataframe tbody tr th {\n",
       "        vertical-align: top;\n",
       "    }\n",
       "\n",
       "    .dataframe thead th {\n",
       "        text-align: right;\n",
       "    }\n",
       "</style>\n",
       "<table border=\"1\" class=\"dataframe\">\n",
       "  <thead>\n",
       "    <tr style=\"text-align: right;\">\n",
       "      <th></th>\n",
       "      <th>title</th>\n",
       "      <th>text</th>\n",
       "      <th>label</th>\n",
       "    </tr>\n",
       "  </thead>\n",
       "  <tbody>\n",
       "    <tr>\n",
       "      <th>72129</th>\n",
       "      <td>Russians steal research on Trump in hack of U....</td>\n",
       "      <td>WASHINGTON (Reuters) - Hackers believed to be ...</td>\n",
       "      <td>1</td>\n",
       "    </tr>\n",
       "    <tr>\n",
       "      <th>72130</th>\n",
       "      <td>WATCH: Giuliani Demands That Democrats Apolog...</td>\n",
       "      <td>You know, because in fantasyland Republicans n...</td>\n",
       "      <td>0</td>\n",
       "    </tr>\n",
       "    <tr>\n",
       "      <th>72131</th>\n",
       "      <td>Migrants Refuse To Leave Train At Refugee Camp...</td>\n",
       "      <td>Migrants Refuse To Leave Train At Refugee Camp...</td>\n",
       "      <td>1</td>\n",
       "    </tr>\n",
       "    <tr>\n",
       "      <th>72132</th>\n",
       "      <td>Trump tussle gives unpopular Mexican leader mu...</td>\n",
       "      <td>MEXICO CITY (Reuters) - Donald Trump’s combati...</td>\n",
       "      <td>1</td>\n",
       "    </tr>\n",
       "    <tr>\n",
       "      <th>72133</th>\n",
       "      <td>Goldman Sachs Endorses Hillary Clinton For Pre...</td>\n",
       "      <td>Goldman Sachs Endorses Hillary Clinton For Pre...</td>\n",
       "      <td>0</td>\n",
       "    </tr>\n",
       "  </tbody>\n",
       "</table>\n",
       "</div>"
      ],
      "text/plain": [
       "                                                   title  \\\n",
       "72129  Russians steal research on Trump in hack of U....   \n",
       "72130   WATCH: Giuliani Demands That Democrats Apolog...   \n",
       "72131  Migrants Refuse To Leave Train At Refugee Camp...   \n",
       "72132  Trump tussle gives unpopular Mexican leader mu...   \n",
       "72133  Goldman Sachs Endorses Hillary Clinton For Pre...   \n",
       "\n",
       "                                                    text  label  \n",
       "72129  WASHINGTON (Reuters) - Hackers believed to be ...      1  \n",
       "72130  You know, because in fantasyland Republicans n...      0  \n",
       "72131  Migrants Refuse To Leave Train At Refugee Camp...      1  \n",
       "72132  MEXICO CITY (Reuters) - Donald Trump’s combati...      1  \n",
       "72133  Goldman Sachs Endorses Hillary Clinton For Pre...      0  "
      ]
     },
     "metadata": {},
     "output_type": "display_data"
    },
    {
     "name": "stdout",
     "output_type": "stream",
     "text": [
      "\n",
      "No of rows:  72134\n",
      "No of columns:  3\n",
      "\n",
      "Information of Data Frame\n",
      "--------------------------------------------------\n",
      "<class 'pandas.core.frame.DataFrame'>\n",
      "RangeIndex: 72134 entries, 0 to 72133\n",
      "Data columns (total 3 columns):\n",
      " #   Column  Non-Null Count  Dtype \n",
      "---  ------  --------------  ----- \n",
      " 0   title   71576 non-null  object\n",
      " 1   text    72095 non-null  object\n",
      " 2   label   72134 non-null  int64 \n",
      "dtypes: int64(1), object(2)\n",
      "memory usage: 1.7+ MB\n",
      "None\n",
      "\n",
      "Null Values\n",
      "-------------------------\n",
      "title    558\n",
      "text      39\n",
      "label      0\n",
      "dtype: int64\n",
      "\n",
      "Blank Values\n",
      "-------------------------\n",
      "title : 0\n",
      "text : 0\n",
      "label : 0\n",
      "\n",
      " No Duplicate values in Index\n",
      "\n",
      "\n"
     ]
    },
    {
     "data": {
      "image/png": "[encoded data removed]",
      "text/plain": [
       "<Figure size 1500x500 with 1 Axes>"
      ]
     },
     "metadata": {},
     "output_type": "display_data"
    }
   ],
   "source": [
    "understand_data(df)"
   ]
  },
  {
   "cell_type": "markdown",
   "id": "b7b9bcbd",
   "metadata": {
    "papermill": {
     "duration": 0.02189,
     "end_time": "2024-04-07T07:10:08.012495",
     "exception": false,
     "start_time": "2024-04-07T07:10:07.990605",
     "status": "completed"
    },
    "tags": []
   },
   "source": [
    "## Drop Null Values"
   ]
  },
  {
   "cell_type": "code",
   "execution_count": 10,
   "id": "83643098",
   "metadata": {
    "execution": {
     "iopub.execute_input": "2024-04-07T07:10:08.056909Z",
     "iopub.status.busy": "2024-04-07T07:10:08.055570Z",
     "iopub.status.idle": "2024-04-07T07:10:08.338748Z",
     "shell.execute_reply": "2024-04-07T07:10:08.337423Z"
    },
    "papermill": {
     "duration": 0.308658,
     "end_time": "2024-04-07T07:10:08.341787",
     "exception": false,
     "start_time": "2024-04-07T07:10:08.033129",
     "status": "completed"
    },
    "tags": []
   },
   "outputs": [
    {
     "name": "stdout",
     "output_type": "stream",
     "text": [
      "First 5 Observations\n",
      "--------------------------------------------------\n"
     ]
    },
    {
     "data": {
      "text/html": [
       "<div>\n",
       "<style scoped>\n",
       "    .dataframe tbody tr th:only-of-type {\n",
       "        vertical-align: middle;\n",
       "    }\n",
       "\n",
       "    .dataframe tbody tr th {\n",
       "        vertical-align: top;\n",
       "    }\n",
       "\n",
       "    .dataframe thead th {\n",
       "        text-align: right;\n",
       "    }\n",
       "</style>\n",
       "<table border=\"1\" class=\"dataframe\">\n",
       "  <thead>\n",
       "    <tr style=\"text-align: right;\">\n",
       "      <th></th>\n",
       "      <th>title</th>\n",
       "      <th>text</th>\n",
       "      <th>label</th>\n",
       "    </tr>\n",
       "  </thead>\n",
       "  <tbody>\n",
       "    <tr>\n",
       "      <th>0</th>\n",
       "      <td>LAW ENFORCEMENT ON HIGH ALERT Following Threat...</td>\n",
       "      <td>No comment is expected from Barack Obama Membe...</td>\n",
       "      <td>0</td>\n",
       "    </tr>\n",
       "    <tr>\n",
       "      <th>2</th>\n",
       "      <td>UNBELIEVABLE! OBAMA’S ATTORNEY GENERAL SAYS MO...</td>\n",
       "      <td>Now, most of the demonstrators gathered last ...</td>\n",
       "      <td>0</td>\n",
       "    </tr>\n",
       "    <tr>\n",
       "      <th>3</th>\n",
       "      <td>Bobby Jindal, raised Hindu, uses story of Chri...</td>\n",
       "      <td>A dozen politically active pastors came here f...</td>\n",
       "      <td>1</td>\n",
       "    </tr>\n",
       "    <tr>\n",
       "      <th>4</th>\n",
       "      <td>SATAN 2: Russia unvelis an image of its terrif...</td>\n",
       "      <td>The RS-28 Sarmat missile, dubbed Satan 2, will...</td>\n",
       "      <td>0</td>\n",
       "    </tr>\n",
       "    <tr>\n",
       "      <th>5</th>\n",
       "      <td>About Time! Christian Group Sues Amazon and SP...</td>\n",
       "      <td>All we can say on this one is it s about time ...</td>\n",
       "      <td>0</td>\n",
       "    </tr>\n",
       "  </tbody>\n",
       "</table>\n",
       "</div>"
      ],
      "text/plain": [
       "                                               title  \\\n",
       "0  LAW ENFORCEMENT ON HIGH ALERT Following Threat...   \n",
       "2  UNBELIEVABLE! OBAMA’S ATTORNEY GENERAL SAYS MO...   \n",
       "3  Bobby Jindal, raised Hindu, uses story of Chri...   \n",
       "4  SATAN 2: Russia unvelis an image of its terrif...   \n",
       "5  About Time! Christian Group Sues Amazon and SP...   \n",
       "\n",
       "                                                text  label  \n",
       "0  No comment is expected from Barack Obama Membe...      0  \n",
       "2   Now, most of the demonstrators gathered last ...      0  \n",
       "3  A dozen politically active pastors came here f...      1  \n",
       "4  The RS-28 Sarmat missile, dubbed Satan 2, will...      0  \n",
       "5  All we can say on this one is it s about time ...      0  "
      ]
     },
     "metadata": {},
     "output_type": "display_data"
    },
    {
     "name": "stdout",
     "output_type": "stream",
     "text": [
      "\n",
      "Last 5 Observations\n",
      "--------------------------------------------------\n"
     ]
    },
    {
     "data": {
      "text/html": [
       "<div>\n",
       "<style scoped>\n",
       "    .dataframe tbody tr th:only-of-type {\n",
       "        vertical-align: middle;\n",
       "    }\n",
       "\n",
       "    .dataframe tbody tr th {\n",
       "        vertical-align: top;\n",
       "    }\n",
       "\n",
       "    .dataframe thead th {\n",
       "        text-align: right;\n",
       "    }\n",
       "</style>\n",
       "<table border=\"1\" class=\"dataframe\">\n",
       "  <thead>\n",
       "    <tr style=\"text-align: right;\">\n",
       "      <th></th>\n",
       "      <th>title</th>\n",
       "      <th>text</th>\n",
       "      <th>label</th>\n",
       "    </tr>\n",
       "  </thead>\n",
       "  <tbody>\n",
       "    <tr>\n",
       "      <th>72129</th>\n",
       "      <td>Russians steal research on Trump in hack of U....</td>\n",
       "      <td>WASHINGTON (Reuters) - Hackers believed to be ...</td>\n",
       "      <td>1</td>\n",
       "    </tr>\n",
       "    <tr>\n",
       "      <th>72130</th>\n",
       "      <td>WATCH: Giuliani Demands That Democrats Apolog...</td>\n",
       "      <td>You know, because in fantasyland Republicans n...</td>\n",
       "      <td>0</td>\n",
       "    </tr>\n",
       "    <tr>\n",
       "      <th>72131</th>\n",
       "      <td>Migrants Refuse To Leave Train At Refugee Camp...</td>\n",
       "      <td>Migrants Refuse To Leave Train At Refugee Camp...</td>\n",
       "      <td>1</td>\n",
       "    </tr>\n",
       "    <tr>\n",
       "      <th>72132</th>\n",
       "      <td>Trump tussle gives unpopular Mexican leader mu...</td>\n",
       "      <td>MEXICO CITY (Reuters) - Donald Trump’s combati...</td>\n",
       "      <td>1</td>\n",
       "    </tr>\n",
       "    <tr>\n",
       "      <th>72133</th>\n",
       "      <td>Goldman Sachs Endorses Hillary Clinton For Pre...</td>\n",
       "      <td>Goldman Sachs Endorses Hillary Clinton For Pre...</td>\n",
       "      <td>0</td>\n",
       "    </tr>\n",
       "  </tbody>\n",
       "</table>\n",
       "</div>"
      ],
      "text/plain": [
       "                                                   title  \\\n",
       "72129  Russians steal research on Trump in hack of U....   \n",
       "72130   WATCH: Giuliani Demands That Democrats Apolog...   \n",
       "72131  Migrants Refuse To Leave Train At Refugee Camp...   \n",
       "72132  Trump tussle gives unpopular Mexican leader mu...   \n",
       "72133  Goldman Sachs Endorses Hillary Clinton For Pre...   \n",
       "\n",
       "                                                    text  label  \n",
       "72129  WASHINGTON (Reuters) - Hackers believed to be ...      1  \n",
       "72130  You know, because in fantasyland Republicans n...      0  \n",
       "72131  Migrants Refuse To Leave Train At Refugee Camp...      1  \n",
       "72132  MEXICO CITY (Reuters) - Donald Trump’s combati...      1  \n",
       "72133  Goldman Sachs Endorses Hillary Clinton For Pre...      0  "
      ]
     },
     "metadata": {},
     "output_type": "display_data"
    },
    {
     "name": "stdout",
     "output_type": "stream",
     "text": [
      "\n",
      "No of rows:  71537\n",
      "No of columns:  3\n",
      "\n",
      "Information of Data Frame\n",
      "--------------------------------------------------\n",
      "<class 'pandas.core.frame.DataFrame'>\n",
      "Index: 71537 entries, 0 to 72133\n",
      "Data columns (total 3 columns):\n",
      " #   Column  Non-Null Count  Dtype \n",
      "---  ------  --------------  ----- \n",
      " 0   title   71537 non-null  object\n",
      " 1   text    71537 non-null  object\n",
      " 2   label   71537 non-null  int64 \n",
      "dtypes: int64(1), object(2)\n",
      "memory usage: 2.2+ MB\n",
      "None\n",
      "\n",
      "Null Values\n",
      "-------------------------\n",
      "title    0\n",
      "text     0\n",
      "label    0\n",
      "dtype: int64\n",
      "\n",
      "Blank Values\n",
      "-------------------------\n",
      "title : 0\n",
      "text : 0\n",
      "label : 0\n",
      "\n",
      " No Duplicate values in Index\n",
      "\n",
      "\n",
      "\n",
      "No Missing Values\n"
     ]
    }
   ],
   "source": [
    "df = df.dropna()\n",
    "understand_data(df)"
   ]
  },
  {
   "cell_type": "markdown",
   "id": "faab190e",
   "metadata": {
    "papermill": {
     "duration": 0.021137,
     "end_time": "2024-04-07T07:10:08.384540",
     "exception": false,
     "start_time": "2024-04-07T07:10:08.363403",
     "status": "completed"
    },
    "tags": []
   },
   "source": [
    "## Target count"
   ]
  },
  {
   "cell_type": "code",
   "execution_count": 11,
   "id": "7b86733f",
   "metadata": {
    "execution": {
     "iopub.execute_input": "2024-04-07T07:10:08.428453Z",
     "iopub.status.busy": "2024-04-07T07:10:08.427682Z",
     "iopub.status.idle": "2024-04-07T07:10:08.441046Z",
     "shell.execute_reply": "2024-04-07T07:10:08.439491Z"
    },
    "papermill": {
     "duration": 0.038438,
     "end_time": "2024-04-07T07:10:08.443646",
     "exception": false,
     "start_time": "2024-04-07T07:10:08.405208",
     "status": "completed"
    },
    "tags": []
   },
   "outputs": [
    {
     "data": {
      "text/plain": [
       "label\n",
       "0    36509\n",
       "1    35028\n",
       "Name: count, dtype: int64"
      ]
     },
     "execution_count": 11,
     "metadata": {},
     "output_type": "execute_result"
    }
   ],
   "source": [
    "df.label.value_counts()"
   ]
  },
  {
   "cell_type": "markdown",
   "id": "95720106",
   "metadata": {
    "papermill": {
     "duration": 0.020745,
     "end_time": "2024-04-07T07:10:08.485185",
     "exception": false,
     "start_time": "2024-04-07T07:10:08.464440",
     "status": "completed"
    },
    "tags": []
   },
   "source": [
    "# Pre-Process Data"
   ]
  },
  {
   "cell_type": "code",
   "execution_count": 12,
   "id": "a44d3faf",
   "metadata": {
    "execution": {
     "iopub.execute_input": "2024-04-07T07:10:08.532701Z",
     "iopub.status.busy": "2024-04-07T07:10:08.531240Z",
     "iopub.status.idle": "2024-04-07T07:10:08.579037Z",
     "shell.execute_reply": "2024-04-07T07:10:08.577614Z"
    },
    "papermill": {
     "duration": 0.072901,
     "end_time": "2024-04-07T07:10:08.581596",
     "exception": false,
     "start_time": "2024-04-07T07:10:08.508695",
     "status": "completed"
    },
    "tags": []
   },
   "outputs": [
    {
     "data": {
      "text/html": [
       "<div>\n",
       "<style scoped>\n",
       "    .dataframe tbody tr th:only-of-type {\n",
       "        vertical-align: middle;\n",
       "    }\n",
       "\n",
       "    .dataframe tbody tr th {\n",
       "        vertical-align: top;\n",
       "    }\n",
       "\n",
       "    .dataframe thead th {\n",
       "        text-align: right;\n",
       "    }\n",
       "</style>\n",
       "<table border=\"1\" class=\"dataframe\">\n",
       "  <thead>\n",
       "    <tr style=\"text-align: right;\">\n",
       "      <th></th>\n",
       "      <th>title</th>\n",
       "      <th>text</th>\n",
       "      <th>label</th>\n",
       "    </tr>\n",
       "  </thead>\n",
       "  <tbody>\n",
       "    <tr>\n",
       "      <th>55409</th>\n",
       "      <td>Fox Guests ATTACK Each Other After Someone Ca...</td>\n",
       "      <td>Fox News host Eric Bolling had recently been f...</td>\n",
       "      <td>0</td>\n",
       "    </tr>\n",
       "    <tr>\n",
       "      <th>40976</th>\n",
       "      <td>Factbox: Prince Alwaleed's international and d...</td>\n",
       "      <td>DUBAI (Reuters) - Saudi Arabia embarked on an ...</td>\n",
       "      <td>1</td>\n",
       "    </tr>\n",
       "    <tr>\n",
       "      <th>36143</th>\n",
       "      <td>This is only the beginning: Nate Silver explai...</td>\n",
       "      <td>Donald Trump has a gift for managing news cycl...</td>\n",
       "      <td>1</td>\n",
       "    </tr>\n",
       "    <tr>\n",
       "      <th>18653</th>\n",
       "      <td>Trump on Twitter (August 10): Mitch McConnell</td>\n",
       "      <td>The following statements were posted to the ve...</td>\n",
       "      <td>1</td>\n",
       "    </tr>\n",
       "    <tr>\n",
       "      <th>60419</th>\n",
       "      <td>HAS ESPN’S “Arthur Ashe Courage Award” BECOME ...</td>\n",
       "      <td>The last three recipients of the highly covete...</td>\n",
       "      <td>0</td>\n",
       "    </tr>\n",
       "    <tr>\n",
       "      <th>26062</th>\n",
       "      <td>West Virginia Republicans Declare War On Poli...</td>\n",
       "      <td>In a move that shows just how little Republica...</td>\n",
       "      <td>0</td>\n",
       "    </tr>\n",
       "    <tr>\n",
       "      <th>59970</th>\n",
       "      <td>WATCH: President Obama HAMMERS Trump For Clai...</td>\n",
       "      <td>Donald Trump thinks African-Americans are wors...</td>\n",
       "      <td>0</td>\n",
       "    </tr>\n",
       "    <tr>\n",
       "      <th>40894</th>\n",
       "      <td>Spanish Mod Releases Thousands Of Pages Of Dec...</td>\n",
       "      <td>Recently, the British Ministry of Defense gave...</td>\n",
       "      <td>0</td>\n",
       "    </tr>\n",
       "    <tr>\n",
       "      <th>11374</th>\n",
       "      <td>Investigation Launched After Texas Judge Wears...</td>\n",
       "      <td>A short investigation was launched after a Tra...</td>\n",
       "      <td>1</td>\n",
       "    </tr>\n",
       "    <tr>\n",
       "      <th>27543</th>\n",
       "      <td>Video Footage Shows Houston Man Shot By Cops ...</td>\n",
       "      <td>At around 12:40 am on Saturday, July 9, two Ho...</td>\n",
       "      <td>0</td>\n",
       "    </tr>\n",
       "  </tbody>\n",
       "</table>\n",
       "</div>"
      ],
      "text/plain": [
       "                                                   title  \\\n",
       "55409   Fox Guests ATTACK Each Other After Someone Ca...   \n",
       "40976  Factbox: Prince Alwaleed's international and d...   \n",
       "36143  This is only the beginning: Nate Silver explai...   \n",
       "18653      Trump on Twitter (August 10): Mitch McConnell   \n",
       "60419  HAS ESPN’S “Arthur Ashe Courage Award” BECOME ...   \n",
       "26062   West Virginia Republicans Declare War On Poli...   \n",
       "59970   WATCH: President Obama HAMMERS Trump For Clai...   \n",
       "40894  Spanish Mod Releases Thousands Of Pages Of Dec...   \n",
       "11374  Investigation Launched After Texas Judge Wears...   \n",
       "27543   Video Footage Shows Houston Man Shot By Cops ...   \n",
       "\n",
       "                                                    text  label  \n",
       "55409  Fox News host Eric Bolling had recently been f...      0  \n",
       "40976  DUBAI (Reuters) - Saudi Arabia embarked on an ...      1  \n",
       "36143  Donald Trump has a gift for managing news cycl...      1  \n",
       "18653  The following statements were posted to the ve...      1  \n",
       "60419  The last three recipients of the highly covete...      0  \n",
       "26062  In a move that shows just how little Republica...      0  \n",
       "59970  Donald Trump thinks African-Americans are wors...      0  \n",
       "40894  Recently, the British Ministry of Defense gave...      0  \n",
       "11374  A short investigation was launched after a Tra...      1  \n",
       "27543  At around 12:40 am on Saturday, July 9, two Ho...      0  "
      ]
     },
     "execution_count": 12,
     "metadata": {},
     "output_type": "execute_result"
    }
   ],
   "source": [
    "df_class_0 = df[df.label == 0].sample(n = 10000, random_state = 1)\n",
    "df_class_1 = df[df.label == 1].sample(n = 10000, random_state = 1)\n",
    "df = pd.concat([df_class_0, df_class_1])\n",
    "df.sample(n = 10)"
   ]
  },
  {
   "cell_type": "code",
   "execution_count": 13,
   "id": "b229ab14",
   "metadata": {
    "execution": {
     "iopub.execute_input": "2024-04-07T07:10:08.626640Z",
     "iopub.status.busy": "2024-04-07T07:10:08.626182Z",
     "iopub.status.idle": "2024-04-07T07:10:08.634085Z",
     "shell.execute_reply": "2024-04-07T07:10:08.632596Z"
    },
    "papermill": {
     "duration": 0.033611,
     "end_time": "2024-04-07T07:10:08.636483",
     "exception": false,
     "start_time": "2024-04-07T07:10:08.602872",
     "status": "completed"
    },
    "tags": []
   },
   "outputs": [
    {
     "data": {
      "text/plain": [
       "(20000, 3)"
      ]
     },
     "execution_count": 13,
     "metadata": {},
     "output_type": "execute_result"
    }
   ],
   "source": [
    "df.shape"
   ]
  },
  {
   "cell_type": "markdown",
   "id": "ef666e79",
   "metadata": {
    "papermill": {
     "duration": 0.090572,
     "end_time": "2024-04-07T07:10:08.748650",
     "exception": false,
     "start_time": "2024-04-07T07:10:08.658078",
     "status": "completed"
    },
    "tags": []
   },
   "source": [
    "## Remove STOP WORDS and PUNCTUATION"
   ]
  },
  {
   "cell_type": "code",
   "execution_count": 14,
   "id": "76202ded",
   "metadata": {
    "execution": {
     "iopub.execute_input": "2024-04-07T07:10:08.794559Z",
     "iopub.status.busy": "2024-04-07T07:10:08.793738Z",
     "iopub.status.idle": "2024-04-07T07:10:08.799914Z",
     "shell.execute_reply": "2024-04-07T07:10:08.799056Z"
    },
    "papermill": {
     "duration": 0.032324,
     "end_time": "2024-04-07T07:10:08.802415",
     "exception": false,
     "start_time": "2024-04-07T07:10:08.770091",
     "status": "completed"
    },
    "tags": []
   },
   "outputs": [],
   "source": [
    "# function to remove stop words and punctuation from text and lemmatize the remaining text\n",
    "def remove_stop_punc(text):\n",
    "    doc = nlp(text)\n",
    "    \n",
    "    filtered_tokens = []\n",
    "    \n",
    "    for token in doc:\n",
    "        if token.is_stop or token.is_punct:\n",
    "            continue\n",
    "        filtered_tokens.append(token.lemma_)\n",
    "   \n",
    "    return \" \".join(filtered_tokens) "
   ]
  },
  {
   "cell_type": "code",
   "execution_count": 15,
   "id": "97010f33",
   "metadata": {
    "execution": {
     "iopub.execute_input": "2024-04-07T07:10:08.848145Z",
     "iopub.status.busy": "2024-04-07T07:10:08.847351Z",
     "iopub.status.idle": "2024-04-07T07:52:32.173409Z",
     "shell.execute_reply": "2024-04-07T07:52:32.171983Z"
    },
    "papermill": {
     "duration": 2543.353011,
     "end_time": "2024-04-07T07:52:32.176926",
     "exception": false,
     "start_time": "2024-04-07T07:10:08.823915",
     "status": "completed"
    },
    "tags": []
   },
   "outputs": [],
   "source": [
    "df['text_new'] = df['text'].apply(remove_stop_punc)\n",
    "df = df.drop(columns = 'text')"
   ]
  },
  {
   "cell_type": "markdown",
   "id": "c0d195c0",
   "metadata": {
    "papermill": {
     "duration": 0.0212,
     "end_time": "2024-04-07T07:52:32.220070",
     "exception": false,
     "start_time": "2024-04-07T07:52:32.198870",
     "status": "completed"
    },
    "tags": []
   },
   "source": [
    "## Get the vector representation for each news article"
   ]
  },
  {
   "cell_type": "code",
   "execution_count": 16,
   "id": "d5d6b336",
   "metadata": {
    "execution": {
     "iopub.execute_input": "2024-04-07T07:52:32.266213Z",
     "iopub.status.busy": "2024-04-07T07:52:32.264539Z",
     "iopub.status.idle": "2024-04-07T08:14:40.528279Z",
     "shell.execute_reply": "2024-04-07T08:14:40.526822Z"
    },
    "papermill": {
     "duration": 1328.28997,
     "end_time": "2024-04-07T08:14:40.531499",
     "exception": false,
     "start_time": "2024-04-07T07:52:32.241529",
     "status": "completed"
    },
    "tags": []
   },
   "outputs": [],
   "source": [
    "df['vector'] = df['text_new'].apply(lambda x: nlp(x).vector)"
   ]
  },
  {
   "cell_type": "code",
   "execution_count": 17,
   "id": "fbbc1dfa",
   "metadata": {
    "execution": {
     "iopub.execute_input": "2024-04-07T08:14:40.578367Z",
     "iopub.status.busy": "2024-04-07T08:14:40.577642Z",
     "iopub.status.idle": "2024-04-07T08:14:40.599311Z",
     "shell.execute_reply": "2024-04-07T08:14:40.597740Z"
    },
    "papermill": {
     "duration": 0.048169,
     "end_time": "2024-04-07T08:14:40.601890",
     "exception": false,
     "start_time": "2024-04-07T08:14:40.553721",
     "status": "completed"
    },
    "tags": []
   },
   "outputs": [
    {
     "data": {
      "text/html": [
       "<div>\n",
       "<style scoped>\n",
       "    .dataframe tbody tr th:only-of-type {\n",
       "        vertical-align: middle;\n",
       "    }\n",
       "\n",
       "    .dataframe tbody tr th {\n",
       "        vertical-align: top;\n",
       "    }\n",
       "\n",
       "    .dataframe thead th {\n",
       "        text-align: right;\n",
       "    }\n",
       "</style>\n",
       "<table border=\"1\" class=\"dataframe\">\n",
       "  <thead>\n",
       "    <tr style=\"text-align: right;\">\n",
       "      <th></th>\n",
       "      <th>title</th>\n",
       "      <th>label</th>\n",
       "      <th>text_new</th>\n",
       "      <th>vector</th>\n",
       "    </tr>\n",
       "  </thead>\n",
       "  <tbody>\n",
       "    <tr>\n",
       "      <th>43181</th>\n",
       "      <td>TRUMP OBLITERATES “Phony Vietnam Con-Artist” D...</td>\n",
       "      <td>0</td>\n",
       "      <td>President Donald Trump continue attack Conne...</td>\n",
       "      <td>[-0.78281677, -0.047960628, -1.6251425, 1.0646...</td>\n",
       "    </tr>\n",
       "    <tr>\n",
       "      <th>52432</th>\n",
       "      <td>CLUELESS IN LIBYA: CLINTON E-MAILS SHOW MORE T...</td>\n",
       "      <td>0</td>\n",
       "      <td>come see die     HRCIn short Mrs. Clinton s ...</td>\n",
       "      <td>[-0.4949707, 0.15491678, -0.8385411, 0.5548196...</td>\n",
       "    </tr>\n",
       "    <tr>\n",
       "      <th>33934</th>\n",
       "      <td>Trump’s White House Team Is So Dumb They Fell...</td>\n",
       "      <td>0</td>\n",
       "      <td>people work Donald Trump s White House sharp t...</td>\n",
       "      <td>[-0.02843275, 0.5616463, -1.4676923, -0.192501...</td>\n",
       "    </tr>\n",
       "    <tr>\n",
       "      <th>15267</th>\n",
       "      <td>After Horrific National Anthem Sung At Trump ...</td>\n",
       "      <td>0</td>\n",
       "      <td>s nice criticize people se attempt sing hard s...</td>\n",
       "      <td>[0.104631186, 1.292794, -1.1619089, 0.1932761,...</td>\n",
       "    </tr>\n",
       "    <tr>\n",
       "      <th>56340</th>\n",
       "      <td>Trump Is Crushing An Int’l Tradition That Eve...</td>\n",
       "      <td>0</td>\n",
       "      <td>world talk Donald Trump doubt preen attention ...</td>\n",
       "      <td>[-0.40536377, 1.0761969, -1.7652938, 0.1363734...</td>\n",
       "    </tr>\n",
       "  </tbody>\n",
       "</table>\n",
       "</div>"
      ],
      "text/plain": [
       "                                                   title  label  \\\n",
       "43181  TRUMP OBLITERATES “Phony Vietnam Con-Artist” D...      0   \n",
       "52432  CLUELESS IN LIBYA: CLINTON E-MAILS SHOW MORE T...      0   \n",
       "33934   Trump’s White House Team Is So Dumb They Fell...      0   \n",
       "15267   After Horrific National Anthem Sung At Trump ...      0   \n",
       "56340   Trump Is Crushing An Int’l Tradition That Eve...      0   \n",
       "\n",
       "                                                text_new  \\\n",
       "43181    President Donald Trump continue attack Conne...   \n",
       "52432    come see die     HRCIn short Mrs. Clinton s ...   \n",
       "33934  people work Donald Trump s White House sharp t...   \n",
       "15267  s nice criticize people se attempt sing hard s...   \n",
       "56340  world talk Donald Trump doubt preen attention ...   \n",
       "\n",
       "                                                  vector  \n",
       "43181  [-0.78281677, -0.047960628, -1.6251425, 1.0646...  \n",
       "52432  [-0.4949707, 0.15491678, -0.8385411, 0.5548196...  \n",
       "33934  [-0.02843275, 0.5616463, -1.4676923, -0.192501...  \n",
       "15267  [0.104631186, 1.292794, -1.1619089, 0.1932761,...  \n",
       "56340  [-0.40536377, 1.0761969, -1.7652938, 0.1363734...  "
      ]
     },
     "execution_count": 17,
     "metadata": {},
     "output_type": "execute_result"
    }
   ],
   "source": [
    "df.head()"
   ]
  },
  {
   "cell_type": "markdown",
   "id": "0f6c2ac9",
   "metadata": {
    "papermill": {
     "duration": 0.02198,
     "end_time": "2024-04-07T08:14:40.646168",
     "exception": false,
     "start_time": "2024-04-07T08:14:40.624188",
     "status": "completed"
    },
    "tags": []
   },
   "source": [
    "## Train and Test Split"
   ]
  },
  {
   "cell_type": "code",
   "execution_count": 18,
   "id": "fb9ff591",
   "metadata": {
    "execution": {
     "iopub.execute_input": "2024-04-07T08:14:40.692928Z",
     "iopub.status.busy": "2024-04-07T08:14:40.692446Z",
     "iopub.status.idle": "2024-04-07T08:14:40.710817Z",
     "shell.execute_reply": "2024-04-07T08:14:40.709550Z"
    },
    "papermill": {
     "duration": 0.045157,
     "end_time": "2024-04-07T08:14:40.713797",
     "exception": false,
     "start_time": "2024-04-07T08:14:40.668640",
     "status": "completed"
    },
    "tags": []
   },
   "outputs": [],
   "source": [
    "X_train, X_test, y_train, y_test = train_test_split(\n",
    "    df.vector.values,\n",
    "    df.label,\n",
    "    test_size = 0.2,\n",
    "    stratify = df.label,\n",
    "    random_state = 1\n",
    ")"
   ]
  },
  {
   "cell_type": "code",
   "execution_count": 19,
   "id": "555a2ccd",
   "metadata": {
    "execution": {
     "iopub.execute_input": "2024-04-07T08:14:40.760965Z",
     "iopub.status.busy": "2024-04-07T08:14:40.760476Z",
     "iopub.status.idle": "2024-04-07T08:14:40.832834Z",
     "shell.execute_reply": "2024-04-07T08:14:40.831215Z"
    },
    "papermill": {
     "duration": 0.098842,
     "end_time": "2024-04-07T08:14:40.835492",
     "exception": false,
     "start_time": "2024-04-07T08:14:40.736650",
     "status": "completed"
    },
    "tags": []
   },
   "outputs": [],
   "source": [
    "# convert the X_train and X_test to 2d numpy array\n",
    "X_train_2d = np.stack(X_train)\n",
    "X_test_2d = np.stack(X_test)"
   ]
  },
  {
   "cell_type": "code",
   "execution_count": 20,
   "id": "fd115b25",
   "metadata": {
    "execution": {
     "iopub.execute_input": "2024-04-07T08:14:40.882331Z",
     "iopub.status.busy": "2024-04-07T08:14:40.881847Z",
     "iopub.status.idle": "2024-04-07T08:14:40.915102Z",
     "shell.execute_reply": "2024-04-07T08:14:40.913681Z"
    },
    "papermill": {
     "duration": 0.059704,
     "end_time": "2024-04-07T08:14:40.918279",
     "exception": false,
     "start_time": "2024-04-07T08:14:40.858575",
     "status": "completed"
    },
    "tags": []
   },
   "outputs": [],
   "source": [
    "# apply scaling\n",
    "scaler = MinMaxScaler()\n",
    "\n",
    "X_train = scaler.fit_transform(X_train_2d)\n",
    "X_test = scaler.transform(X_test_2d)"
   ]
  },
  {
   "cell_type": "code",
   "execution_count": 21,
   "id": "0306094d",
   "metadata": {
    "execution": {
     "iopub.execute_input": "2024-04-07T08:14:40.964077Z",
     "iopub.status.busy": "2024-04-07T08:14:40.963670Z",
     "iopub.status.idle": "2024-04-07T08:14:40.974232Z",
     "shell.execute_reply": "2024-04-07T08:14:40.973390Z"
    },
    "papermill": {
     "duration": 0.036687,
     "end_time": "2024-04-07T08:14:40.977189",
     "exception": false,
     "start_time": "2024-04-07T08:14:40.940502",
     "status": "completed"
    },
    "tags": []
   },
   "outputs": [
    {
     "name": "stdout",
     "output_type": "stream",
     "text": [
      "Shape of the training set:  (16000, 300)\n",
      "Shape of the test set:  (4000, 300)\n",
      "Percentage of classes in the training set:\n",
      "label\n",
      "1    0.5\n",
      "0    0.5\n",
      "Name: proportion, dtype: float64\n",
      "Percentage of classes in the test set:\n",
      "label\n",
      "0    0.5\n",
      "1    0.5\n",
      "Name: proportion, dtype: float64\n"
     ]
    }
   ],
   "source": [
    "# Checking the shape of train and test data\n",
    "\n",
    "print(\"Shape of the training set: \", X_train.shape)\n",
    "\n",
    "print(\"Shape of the test set: \", X_test.shape)\n",
    "\n",
    "print(\"Percentage of classes in the training set:\")\n",
    "\n",
    "print(y_train.value_counts(normalize = True))\n",
    "\n",
    "print(\"Percentage of classes in the test set:\")\n",
    "\n",
    "print(y_test.value_counts(normalize = True))"
   ]
  },
  {
   "cell_type": "markdown",
   "id": "793199cd",
   "metadata": {
    "papermill": {
     "duration": 0.023283,
     "end_time": "2024-04-07T08:14:41.023823",
     "exception": false,
     "start_time": "2024-04-07T08:14:41.000540",
     "status": "completed"
    },
    "tags": []
   },
   "source": [
    "# Build Models"
   ]
  },
  {
   "cell_type": "code",
   "execution_count": 22,
   "id": "e01a8c5e",
   "metadata": {
    "execution": {
     "iopub.execute_input": "2024-04-07T08:14:41.073370Z",
     "iopub.status.busy": "2024-04-07T08:14:41.072887Z",
     "iopub.status.idle": "2024-04-07T08:14:41.088692Z",
     "shell.execute_reply": "2024-04-07T08:14:41.087354Z"
    },
    "papermill": {
     "duration": 0.043476,
     "end_time": "2024-04-07T08:14:41.091269",
     "exception": false,
     "start_time": "2024-04-07T08:14:41.047793",
     "status": "completed"
    },
    "tags": []
   },
   "outputs": [],
   "source": [
    "# Creating metric function\n",
    "# Function to print the classification report and get confusion matrix in a proper format\n",
    "# function will take 2 arguments: actual data, predicted data for the target variable\n",
    "\n",
    "def metrics_score(actual, predicted):\n",
    "    # print the classification report: precision, recall, f-1 score\n",
    "    # Precision for a label is defined as the number of true positives divided by the number of predicted positives.\n",
    "    # Recall for a label is defined as the number of true positives divided by the total number of actual positives.\n",
    "    # F1 Score is the harmonic mean of precision and recall.\n",
    "    print(classification_report(actual, predicted))\n",
    "\n",
    "    # confusion matrix\n",
    "    cm = confusion_matrix(actual, predicted)\n",
    "\n",
    "    tn = cm[0,0]\n",
    "    fp = cm[0,1]\n",
    "    fn = cm[1,0]\n",
    "    tp = cm[1,1]\n",
    "\n",
    "    accuracy = round((tp+tn)/(tn+fp+fn+tp),2)\n",
    "    fpr = round(fp/(fp+tn), 2)\n",
    "    fnr = round(fn/(fn+tp), 2)\n",
    "    specificity = round(tn/(tn+fp), 2)\n",
    "    sensitivity = round(tp/(tp+fn), 2)\n",
    "    precision = round(tp/(tp+fp), 2)\n",
    "    recall = round(tp/(tp+fn), 2)\n",
    "    error_rate = round(1 - accuracy, 2)\n",
    "    f1 = round((2 * precision * recall) / (precision + recall), 2)\n",
    "\n",
    "\n",
    "    print('True Positives = ', tp)\n",
    "    print('True Negatives = ', tn)\n",
    "    print('Accuracy = ', accuracy)\n",
    "    print('False Positive Rate = ', fpr)\n",
    "    print('False Negative Rate = ', fnr)\n",
    "    print('Sensitivity (True Positive Rate)= ', sensitivity)\n",
    "    print('Specificity (True Negative Rate) = ', specificity)\n",
    "    print('Precision = ', precision)\n",
    "    print('Recall = ', recall)\n",
    "    print('F1 Score = ', f1)\n",
    "    print('Error Rate = ', error_rate)\n",
    "\n",
    "\n",
    "    # figure size\n",
    "    plt.figure(figsize=(10,5))\n",
    "\n",
    "    # create heatmap to show confusion matrix\n",
    "    sns.heatmap(\n",
    "        cm,\n",
    "        annot=True,\n",
    "        fmt='.2f',\n",
    "        xticklabels=['Real', 'Fake'],\n",
    "        yticklabels=['Real', 'Fake'],\n",
    "        cmap='Purples'\n",
    "    )\n",
    "    plt.ylabel('Actual')\n",
    "    plt.xlabel('Predicted')\n",
    "    plt.show()\n",
    "\n",
    "    return precision, recall, f1, sensitivity, specificity"
   ]
  },
  {
   "cell_type": "markdown",
   "id": "f49fe931",
   "metadata": {
    "papermill": {
     "duration": 0.021821,
     "end_time": "2024-04-07T08:14:41.135084",
     "exception": false,
     "start_time": "2024-04-07T08:14:41.113263",
     "status": "completed"
    },
    "tags": []
   },
   "source": [
    "## Function to build and train the models"
   ]
  },
  {
   "cell_type": "code",
   "execution_count": 23,
   "id": "b6a35d44",
   "metadata": {
    "execution": {
     "iopub.execute_input": "2024-04-07T08:14:41.182190Z",
     "iopub.status.busy": "2024-04-07T08:14:41.181675Z",
     "iopub.status.idle": "2024-04-07T08:14:41.189037Z",
     "shell.execute_reply": "2024-04-07T08:14:41.187463Z"
    },
    "papermill": {
     "duration": 0.033941,
     "end_time": "2024-04-07T08:14:41.191688",
     "exception": false,
     "start_time": "2024-04-07T08:14:41.157747",
     "status": "completed"
    },
    "tags": []
   },
   "outputs": [],
   "source": [
    "\n",
    "def fit_model(model):\n",
    "    \n",
    "    mod = model.fit(X_train, y_train)\n",
    "    \n",
    "    y_pred = mod.predict(X_train)\n",
    "    metrics_score(y_train, y_pred)\n",
    "    \n",
    "    return mod"
   ]
  },
  {
   "cell_type": "markdown",
   "id": "f5b9c987",
   "metadata": {
    "papermill": {
     "duration": 0.021706,
     "end_time": "2024-04-07T08:14:41.235900",
     "exception": false,
     "start_time": "2024-04-07T08:14:41.214194",
     "status": "completed"
    },
    "tags": []
   },
   "source": [
    "## Models to be used"
   ]
  },
  {
   "cell_type": "code",
   "execution_count": 24,
   "id": "b27a7f3f",
   "metadata": {
    "execution": {
     "iopub.execute_input": "2024-04-07T08:14:41.282211Z",
     "iopub.status.busy": "2024-04-07T08:14:41.281686Z",
     "iopub.status.idle": "2024-04-07T08:14:41.289748Z",
     "shell.execute_reply": "2024-04-07T08:14:41.288789Z"
    },
    "papermill": {
     "duration": 0.034202,
     "end_time": "2024-04-07T08:14:41.292178",
     "exception": false,
     "start_time": "2024-04-07T08:14:41.257976",
     "status": "completed"
    },
    "tags": []
   },
   "outputs": [],
   "source": [
    "models = [\n",
    "    LogisticRegression(),\n",
    "    DecisionTreeClassifier(),\n",
    "    RandomForestClassifier(),\n",
    "    XGBClassifier(),\n",
    "    AdaBoostClassifier(),\n",
    "    MultinomialNB()\n",
    "]"
   ]
  },
  {
   "cell_type": "markdown",
   "id": "e6f13834",
   "metadata": {
    "papermill": {
     "duration": 0.02169,
     "end_time": "2024-04-07T08:14:41.335647",
     "exception": false,
     "start_time": "2024-04-07T08:14:41.313957",
     "status": "completed"
    },
    "tags": []
   },
   "source": [
    "## Declare lists for performance evaluation"
   ]
  },
  {
   "cell_type": "code",
   "execution_count": 25,
   "id": "9db3426d",
   "metadata": {
    "execution": {
     "iopub.execute_input": "2024-04-07T08:14:41.381521Z",
     "iopub.status.busy": "2024-04-07T08:14:41.381018Z",
     "iopub.status.idle": "2024-04-07T08:14:41.387720Z",
     "shell.execute_reply": "2024-04-07T08:14:41.386304Z"
    },
    "papermill": {
     "duration": 0.033049,
     "end_time": "2024-04-07T08:14:41.390555",
     "exception": false,
     "start_time": "2024-04-07T08:14:41.357506",
     "status": "completed"
    },
    "tags": []
   },
   "outputs": [],
   "source": [
    "precision_list = []\n",
    "recall_list = []\n",
    "f1_list = []\n",
    "sensitivity_list = []\n",
    "specificity_list = []\n",
    "model_name_list = []\n",
    "train_time_list = []"
   ]
  },
  {
   "cell_type": "code",
   "execution_count": 26,
   "id": "73e00042",
   "metadata": {
    "execution": {
     "iopub.execute_input": "2024-04-07T08:14:41.437684Z",
     "iopub.status.busy": "2024-04-07T08:14:41.437300Z",
     "iopub.status.idle": "2024-04-07T08:14:42.953520Z",
     "shell.execute_reply": "2024-04-07T08:14:42.952508Z"
    },
    "papermill": {
     "duration": 1.542696,
     "end_time": "2024-04-07T08:14:42.956138",
     "exception": false,
     "start_time": "2024-04-07T08:14:41.413442",
     "status": "completed"
    },
    "tags": []
   },
   "outputs": [
    {
     "name": "stderr",
     "output_type": "stream",
     "text": [
      "/opt/conda/lib/python3.10/site-packages/sklearn/linear_model/_logistic.py:458: ConvergenceWarning: lbfgs failed to converge (status=1):\n",
      "STOP: TOTAL NO. of ITERATIONS REACHED LIMIT.\n",
      "\n",
      "Increase the number of iterations (max_iter) or scale the data as shown in:\n",
      "    https://scikit-learn.org/stable/modules/preprocessing.html\n",
      "Please also refer to the documentation for alternative solver options:\n",
      "    https://scikit-learn.org/stable/modules/linear_model.html#logistic-regression\n",
      "  n_iter_i = _check_optimize_result(\n"
     ]
    },
    {
     "name": "stdout",
     "output_type": "stream",
     "text": [
      "              precision    recall  f1-score   support\n",
      "\n",
      "           0       0.90      0.89      0.90      8000\n",
      "           1       0.90      0.90      0.90      8000\n",
      "\n",
      "    accuracy                           0.90     16000\n",
      "   macro avg       0.90      0.90      0.90     16000\n",
      "weighted avg       0.90      0.90      0.90     16000\n",
      "\n",
      "True Positives =  7232\n",
      "True Negatives =  7157\n",
      "Accuracy =  0.9\n",
      "False Positive Rate =  0.11\n",
      "False Negative Rate =  0.1\n",
      "Sensitivity (True Positive Rate)=  0.9\n",
      "Specificity (True Negative Rate) =  0.89\n",
      "Precision =  0.9\n",
      "Recall =  0.9\n",
      "F1 Score =  0.9\n",
      "Error Rate =  0.1\n"
     ]
    },
    {
     "data": {
      "image/png": "[encoded data removed]",
      "text/plain": [
       "<Figure size 1000x500 with 2 Axes>"
      ]
     },
     "metadata": {},
     "output_type": "display_data"
    }
   ],
   "source": [
    "clf = fit_model(models[0])"
   ]
  },
  {
   "cell_type": "code",
   "execution_count": 27,
   "id": "40de151c",
   "metadata": {
    "execution": {
     "iopub.execute_input": "2024-04-07T08:14:43.005233Z",
     "iopub.status.busy": "2024-04-07T08:14:43.004673Z",
     "iopub.status.idle": "2024-04-07T08:14:43.411363Z",
     "shell.execute_reply": "2024-04-07T08:14:43.409843Z"
    },
    "papermill": {
     "duration": 0.43531,
     "end_time": "2024-04-07T08:14:43.414759",
     "exception": false,
     "start_time": "2024-04-07T08:14:42.979449",
     "status": "completed"
    },
    "tags": []
   },
   "outputs": [
    {
     "name": "stdout",
     "output_type": "stream",
     "text": [
      "              precision    recall  f1-score   support\n",
      "\n",
      "           0       0.90      0.88      0.89      2000\n",
      "           1       0.88      0.90      0.89      2000\n",
      "\n",
      "    accuracy                           0.89      4000\n",
      "   macro avg       0.89      0.89      0.89      4000\n",
      "weighted avg       0.89      0.89      0.89      4000\n",
      "\n",
      "True Positives =  1808\n",
      "True Negatives =  1757\n",
      "Accuracy =  0.89\n",
      "False Positive Rate =  0.12\n",
      "False Negative Rate =  0.1\n",
      "Sensitivity (True Positive Rate)=  0.9\n",
      "Specificity (True Negative Rate) =  0.88\n",
      "Precision =  0.88\n",
      "Recall =  0.9\n",
      "F1 Score =  0.89\n",
      "Error Rate =  0.11\n"
     ]
    },
    {
     "data": {
      "image/png": "[encoded data removed]",
      "text/plain": [
       "<Figure size 1000x500 with 2 Axes>"
      ]
     },
     "metadata": {},
     "output_type": "display_data"
    }
   ],
   "source": [
    "y_pred_test = clf.predict(X_test)\n",
    "p, r, f, se, sp = metrics_score(y_test, y_pred_test)\n"
   ]
  },
  {
   "cell_type": "code",
   "execution_count": 28,
   "id": "3010037e",
   "metadata": {
    "execution": {
     "iopub.execute_input": "2024-04-07T08:14:43.468351Z",
     "iopub.status.busy": "2024-04-07T08:14:43.467895Z",
     "iopub.status.idle": "2024-04-07T08:14:43.477611Z",
     "shell.execute_reply": "2024-04-07T08:14:43.476150Z"
    },
    "papermill": {
     "duration": 0.040631,
     "end_time": "2024-04-07T08:14:43.480704",
     "exception": false,
     "start_time": "2024-04-07T08:14:43.440073",
     "status": "completed"
    },
    "tags": []
   },
   "outputs": [],
   "source": [
    "precision_list.append(p)\n",
    "recall_list.append(r)\n",
    "f1_list.append(f)\n",
    "sensitivity_list.append(se)\n",
    "specificity_list.append(sp)\n",
    "model_name_list.append(str(models[0]).split('(')[0])"
   ]
  },
  {
   "cell_type": "code",
   "execution_count": 29,
   "id": "fef6dbc9",
   "metadata": {
    "execution": {
     "iopub.execute_input": "2024-04-07T08:14:43.531823Z",
     "iopub.status.busy": "2024-04-07T08:14:43.531356Z",
     "iopub.status.idle": "2024-04-07T08:14:53.838630Z",
     "shell.execute_reply": "2024-04-07T08:14:53.837152Z"
    },
    "papermill": {
     "duration": 10.336385,
     "end_time": "2024-04-07T08:14:53.841464",
     "exception": false,
     "start_time": "2024-04-07T08:14:43.505079",
     "status": "completed"
    },
    "tags": []
   },
   "outputs": [
    {
     "name": "stdout",
     "output_type": "stream",
     "text": [
      "              precision    recall  f1-score   support\n",
      "\n",
      "           0       1.00      1.00      1.00      8000\n",
      "           1       1.00      1.00      1.00      8000\n",
      "\n",
      "    accuracy                           1.00     16000\n",
      "   macro avg       1.00      1.00      1.00     16000\n",
      "weighted avg       1.00      1.00      1.00     16000\n",
      "\n",
      "True Positives =  8000\n",
      "True Negatives =  8000\n",
      "Accuracy =  1.0\n",
      "False Positive Rate =  0.0\n",
      "False Negative Rate =  0.0\n",
      "Sensitivity (True Positive Rate)=  1.0\n",
      "Specificity (True Negative Rate) =  1.0\n",
      "Precision =  1.0\n",
      "Recall =  1.0\n",
      "F1 Score =  1.0\n",
      "Error Rate =  0.0\n"
     ]
    },
    {
     "data": {
      "image/png": "[encoded data removed]",
      "text/plain": [
       "<Figure size 1000x500 with 2 Axes>"
      ]
     },
     "metadata": {},
     "output_type": "display_data"
    }
   ],
   "source": [
    "clf = fit_model(models[1])"
   ]
  },
  {
   "cell_type": "code",
   "execution_count": 30,
   "id": "1a799d44",
   "metadata": {
    "execution": {
     "iopub.execute_input": "2024-04-07T08:14:53.894105Z",
     "iopub.status.busy": "2024-04-07T08:14:53.893651Z",
     "iopub.status.idle": "2024-04-07T08:14:54.221470Z",
     "shell.execute_reply": "2024-04-07T08:14:54.220078Z"
    },
    "papermill": {
     "duration": 0.357758,
     "end_time": "2024-04-07T08:14:54.224583",
     "exception": false,
     "start_time": "2024-04-07T08:14:53.866825",
     "status": "completed"
    },
    "tags": []
   },
   "outputs": [
    {
     "name": "stdout",
     "output_type": "stream",
     "text": [
      "              precision    recall  f1-score   support\n",
      "\n",
      "           0       0.80      0.81      0.81      2000\n",
      "           1       0.81      0.80      0.80      2000\n",
      "\n",
      "    accuracy                           0.80      4000\n",
      "   macro avg       0.80      0.80      0.80      4000\n",
      "weighted avg       0.80      0.80      0.80      4000\n",
      "\n",
      "True Positives =  1602\n",
      "True Negatives =  1616\n",
      "Accuracy =  0.8\n",
      "False Positive Rate =  0.19\n",
      "False Negative Rate =  0.2\n",
      "Sensitivity (True Positive Rate)=  0.8\n",
      "Specificity (True Negative Rate) =  0.81\n",
      "Precision =  0.81\n",
      "Recall =  0.8\n",
      "F1 Score =  0.8\n",
      "Error Rate =  0.2\n"
     ]
    },
    {
     "data": {
      "image/png": "[encoded data removed]",
      "text/plain": [
       "<Figure size 1000x500 with 2 Axes>"
      ]
     },
     "metadata": {},
     "output_type": "display_data"
    }
   ],
   "source": [
    "y_pred_test = clf.predict(X_test)\n",
    "p, r, f, se, sp = metrics_score(y_test, y_pred_test)\n"
   ]
  },
  {
   "cell_type": "code",
   "execution_count": 31,
   "id": "78489d8f",
   "metadata": {
    "execution": {
     "iopub.execute_input": "2024-04-07T08:14:54.279090Z",
     "iopub.status.busy": "2024-04-07T08:14:54.277841Z",
     "iopub.status.idle": "2024-04-07T08:14:54.285323Z",
     "shell.execute_reply": "2024-04-07T08:14:54.284054Z"
    },
    "papermill": {
     "duration": 0.037088,
     "end_time": "2024-04-07T08:14:54.287666",
     "exception": false,
     "start_time": "2024-04-07T08:14:54.250578",
     "status": "completed"
    },
    "tags": []
   },
   "outputs": [],
   "source": [
    "precision_list.append(p)\n",
    "recall_list.append(r)\n",
    "f1_list.append(f)\n",
    "sensitivity_list.append(se)\n",
    "specificity_list.append(sp)\n",
    "model_name_list.append(str(models[1]).split('(')[0])"
   ]
  },
  {
   "cell_type": "code",
   "execution_count": 32,
   "id": "db16ad6d",
   "metadata": {
    "execution": {
     "iopub.execute_input": "2024-04-07T08:14:54.339976Z",
     "iopub.status.busy": "2024-04-07T08:14:54.339478Z",
     "iopub.status.idle": "2024-04-07T08:15:26.634257Z",
     "shell.execute_reply": "2024-04-07T08:15:26.633084Z"
    },
    "papermill": {
     "duration": 32.328388,
     "end_time": "2024-04-07T08:15:26.641560",
     "exception": false,
     "start_time": "2024-04-07T08:14:54.313172",
     "status": "completed"
    },
    "tags": []
   },
   "outputs": [
    {
     "name": "stdout",
     "output_type": "stream",
     "text": [
      "              precision    recall  f1-score   support\n",
      "\n",
      "           0       1.00      1.00      1.00      8000\n",
      "           1       1.00      1.00      1.00      8000\n",
      "\n",
      "    accuracy                           1.00     16000\n",
      "   macro avg       1.00      1.00      1.00     16000\n",
      "weighted avg       1.00      1.00      1.00     16000\n",
      "\n",
      "True Positives =  8000\n",
      "True Negatives =  8000\n",
      "Accuracy =  1.0\n",
      "False Positive Rate =  0.0\n",
      "False Negative Rate =  0.0\n",
      "Sensitivity (True Positive Rate)=  1.0\n",
      "Specificity (True Negative Rate) =  1.0\n",
      "Precision =  1.0\n",
      "Recall =  1.0\n",
      "F1 Score =  1.0\n",
      "Error Rate =  0.0\n"
     ]
    },
    {
     "data": {
      "image/png": "[encoded data removed]",
      "text/plain": [
       "<Figure size 1000x500 with 2 Axes>"
      ]
     },
     "metadata": {},
     "output_type": "display_data"
    }
   ],
   "source": [
    "clf = fit_model(models[2])"
   ]
  },
  {
   "cell_type": "code",
   "execution_count": 33,
   "id": "3b18bdfc",
   "metadata": {
    "execution": {
     "iopub.execute_input": "2024-04-07T08:15:26.713659Z",
     "iopub.status.busy": "2024-04-07T08:15:26.712863Z",
     "iopub.status.idle": "2024-04-07T08:15:27.211909Z",
     "shell.execute_reply": "2024-04-07T08:15:27.210489Z"
    },
    "papermill": {
     "duration": 0.534399,
     "end_time": "2024-04-07T08:15:27.214838",
     "exception": false,
     "start_time": "2024-04-07T08:15:26.680439",
     "status": "completed"
    },
    "tags": []
   },
   "outputs": [
    {
     "name": "stdout",
     "output_type": "stream",
     "text": [
      "              precision    recall  f1-score   support\n",
      "\n",
      "           0       0.90      0.88      0.89      2000\n",
      "           1       0.88      0.90      0.89      2000\n",
      "\n",
      "    accuracy                           0.89      4000\n",
      "   macro avg       0.89      0.89      0.89      4000\n",
      "weighted avg       0.89      0.89      0.89      4000\n",
      "\n",
      "True Positives =  1809\n",
      "True Negatives =  1758\n",
      "Accuracy =  0.89\n",
      "False Positive Rate =  0.12\n",
      "False Negative Rate =  0.1\n",
      "Sensitivity (True Positive Rate)=  0.9\n",
      "Specificity (True Negative Rate) =  0.88\n",
      "Precision =  0.88\n",
      "Recall =  0.9\n",
      "F1 Score =  0.89\n",
      "Error Rate =  0.11\n"
     ]
    },
    {
     "data": {
      "image/png": "[encoded data removed]",
      "text/plain": [
       "<Figure size 1000x500 with 2 Axes>"
      ]
     },
     "metadata": {},
     "output_type": "display_data"
    }
   ],
   "source": [
    "y_pred_test = clf.predict(X_test)\n",
    "p, r, f, se, sp = metrics_score(y_test, y_pred_test)\n"
   ]
  },
  {
   "cell_type": "code",
   "execution_count": 34,
   "id": "74000a36",
   "metadata": {
    "execution": {
     "iopub.execute_input": "2024-04-07T08:15:27.275677Z",
     "iopub.status.busy": "2024-04-07T08:15:27.274607Z",
     "iopub.status.idle": "2024-04-07T08:15:27.282914Z",
     "shell.execute_reply": "2024-04-07T08:15:27.281781Z"
    },
    "papermill": {
     "duration": 0.041698,
     "end_time": "2024-04-07T08:15:27.286029",
     "exception": false,
     "start_time": "2024-04-07T08:15:27.244331",
     "status": "completed"
    },
    "tags": []
   },
   "outputs": [],
   "source": [
    "precision_list.append(p)\n",
    "recall_list.append(r)\n",
    "f1_list.append(f)\n",
    "sensitivity_list.append(se)\n",
    "specificity_list.append(sp)\n",
    "model_name_list.append(str(models[2]).split('(')[0])"
   ]
  },
  {
   "cell_type": "code",
   "execution_count": 35,
   "id": "4948da11",
   "metadata": {
    "execution": {
     "iopub.execute_input": "2024-04-07T08:15:27.347373Z",
     "iopub.status.busy": "2024-04-07T08:15:27.346523Z",
     "iopub.status.idle": "2024-04-07T08:15:35.984674Z",
     "shell.execute_reply": "2024-04-07T08:15:35.982477Z"
    },
    "papermill": {
     "duration": 8.671971,
     "end_time": "2024-04-07T08:15:35.987530",
     "exception": false,
     "start_time": "2024-04-07T08:15:27.315559",
     "status": "completed"
    },
    "tags": []
   },
   "outputs": [
    {
     "name": "stdout",
     "output_type": "stream",
     "text": [
      "              precision    recall  f1-score   support\n",
      "\n",
      "           0       1.00      1.00      1.00      8000\n",
      "           1       1.00      1.00      1.00      8000\n",
      "\n",
      "    accuracy                           1.00     16000\n",
      "   macro avg       1.00      1.00      1.00     16000\n",
      "weighted avg       1.00      1.00      1.00     16000\n",
      "\n",
      "True Positives =  8000\n",
      "True Negatives =  8000\n",
      "Accuracy =  1.0\n",
      "False Positive Rate =  0.0\n",
      "False Negative Rate =  0.0\n",
      "Sensitivity (True Positive Rate)=  1.0\n",
      "Specificity (True Negative Rate) =  1.0\n",
      "Precision =  1.0\n",
      "Recall =  1.0\n",
      "F1 Score =  1.0\n",
      "Error Rate =  0.0\n"
     ]
    },
    {
     "data": {
      "image/png": "[encoded data removed]",
      "text/plain": [
       "<Figure size 1000x500 with 2 Axes>"
      ]
     },
     "metadata": {},
     "output_type": "display_data"
    }
   ],
   "source": [
    "clf = fit_model(models[3])"
   ]
  },
  {
   "cell_type": "code",
   "execution_count": 36,
   "id": "bf11a6f0",
   "metadata": {
    "execution": {
     "iopub.execute_input": "2024-04-07T08:15:36.043504Z",
     "iopub.status.busy": "2024-04-07T08:15:36.043103Z",
     "iopub.status.idle": "2024-04-07T08:15:36.352394Z",
     "shell.execute_reply": "2024-04-07T08:15:36.350477Z"
    },
    "papermill": {
     "duration": 0.341314,
     "end_time": "2024-04-07T08:15:36.356288",
     "exception": false,
     "start_time": "2024-04-07T08:15:36.014974",
     "status": "completed"
    },
    "tags": []
   },
   "outputs": [
    {
     "name": "stdout",
     "output_type": "stream",
     "text": [
      "              precision    recall  f1-score   support\n",
      "\n",
      "           0       0.92      0.91      0.92      2000\n",
      "           1       0.91      0.92      0.92      2000\n",
      "\n",
      "    accuracy                           0.92      4000\n",
      "   macro avg       0.92      0.92      0.92      4000\n",
      "weighted avg       0.92      0.92      0.92      4000\n",
      "\n",
      "True Positives =  1848\n",
      "True Negatives =  1827\n",
      "Accuracy =  0.92\n",
      "False Positive Rate =  0.09\n",
      "False Negative Rate =  0.08\n",
      "Sensitivity (True Positive Rate)=  0.92\n",
      "Specificity (True Negative Rate) =  0.91\n",
      "Precision =  0.91\n",
      "Recall =  0.92\n",
      "F1 Score =  0.91\n",
      "Error Rate =  0.08\n"
     ]
    },
    {
     "data": {
      "image/png": "[encoded data removed]",
      "text/plain": [
       "<Figure size 1000x500 with 2 Axes>"
      ]
     },
     "metadata": {},
     "output_type": "display_data"
    }
   ],
   "source": [
    "y_pred_test = clf.predict(X_test)\n",
    "p, r, f, se, sp = metrics_score(y_test, y_pred_test)\n"
   ]
  },
  {
   "cell_type": "code",
   "execution_count": 37,
   "id": "608f9642",
   "metadata": {
    "execution": {
     "iopub.execute_input": "2024-04-07T08:15:36.419201Z",
     "iopub.status.busy": "2024-04-07T08:15:36.417924Z",
     "iopub.status.idle": "2024-04-07T08:15:36.427070Z",
     "shell.execute_reply": "2024-04-07T08:15:36.426059Z"
    },
    "papermill": {
     "duration": 0.043132,
     "end_time": "2024-04-07T08:15:36.429767",
     "exception": false,
     "start_time": "2024-04-07T08:15:36.386635",
     "status": "completed"
    },
    "tags": []
   },
   "outputs": [],
   "source": [
    "precision_list.append(p)\n",
    "recall_list.append(r)\n",
    "f1_list.append(f)\n",
    "sensitivity_list.append(se)\n",
    "specificity_list.append(sp)\n",
    "model_name_list.append(str(models[3]).split('(')[0])"
   ]
  },
  {
   "cell_type": "code",
   "execution_count": 38,
   "id": "d23fc3ed",
   "metadata": {
    "execution": {
     "iopub.execute_input": "2024-04-07T08:15:36.489755Z",
     "iopub.status.busy": "2024-04-07T08:15:36.488667Z",
     "iopub.status.idle": "2024-04-07T08:16:21.119514Z",
     "shell.execute_reply": "2024-04-07T08:16:21.118071Z"
    },
    "papermill": {
     "duration": 44.664409,
     "end_time": "2024-04-07T08:16:21.122234",
     "exception": false,
     "start_time": "2024-04-07T08:15:36.457825",
     "status": "completed"
    },
    "tags": []
   },
   "outputs": [
    {
     "name": "stdout",
     "output_type": "stream",
     "text": [
      "              precision    recall  f1-score   support\n",
      "\n",
      "           0       0.87      0.86      0.86      8000\n",
      "           1       0.86      0.87      0.86      8000\n",
      "\n",
      "    accuracy                           0.86     16000\n",
      "   macro avg       0.86      0.86      0.86     16000\n",
      "weighted avg       0.86      0.86      0.86     16000\n",
      "\n",
      "True Positives =  6930\n",
      "True Negatives =  6889\n",
      "Accuracy =  0.86\n",
      "False Positive Rate =  0.14\n",
      "False Negative Rate =  0.13\n",
      "Sensitivity (True Positive Rate)=  0.87\n",
      "Specificity (True Negative Rate) =  0.86\n",
      "Precision =  0.86\n",
      "Recall =  0.87\n",
      "F1 Score =  0.86\n",
      "Error Rate =  0.14\n"
     ]
    },
    {
     "data": {
      "image/png": "[encoded data removed]",
      "text/plain": [
       "<Figure size 1000x500 with 2 Axes>"
      ]
     },
     "metadata": {},
     "output_type": "display_data"
    }
   ],
   "source": [
    "clf = fit_model(models[4])"
   ]
  },
  {
   "cell_type": "code",
   "execution_count": 39,
   "id": "6b6aea57",
   "metadata": {
    "execution": {
     "iopub.execute_input": "2024-04-07T08:16:21.181941Z",
     "iopub.status.busy": "2024-04-07T08:16:21.180951Z",
     "iopub.status.idle": "2024-04-07T08:16:21.580871Z",
     "shell.execute_reply": "2024-04-07T08:16:21.579819Z"
    },
    "papermill": {
     "duration": 0.432306,
     "end_time": "2024-04-07T08:16:21.583496",
     "exception": false,
     "start_time": "2024-04-07T08:16:21.151190",
     "status": "completed"
    },
    "tags": []
   },
   "outputs": [
    {
     "name": "stdout",
     "output_type": "stream",
     "text": [
      "              precision    recall  f1-score   support\n",
      "\n",
      "           0       0.86      0.84      0.85      2000\n",
      "           1       0.85      0.86      0.86      2000\n",
      "\n",
      "    accuracy                           0.85      4000\n",
      "   macro avg       0.85      0.85      0.85      4000\n",
      "weighted avg       0.85      0.85      0.85      4000\n",
      "\n",
      "True Positives =  1728\n",
      "True Negatives =  1688\n",
      "Accuracy =  0.85\n",
      "False Positive Rate =  0.16\n",
      "False Negative Rate =  0.14\n",
      "Sensitivity (True Positive Rate)=  0.86\n",
      "Specificity (True Negative Rate) =  0.84\n",
      "Precision =  0.85\n",
      "Recall =  0.86\n",
      "F1 Score =  0.85\n",
      "Error Rate =  0.15\n"
     ]
    },
    {
     "data": {
      "image/png": "[encoded data removed]",
      "text/plain": [
       "<Figure size 1000x500 with 2 Axes>"
      ]
     },
     "metadata": {},
     "output_type": "display_data"
    }
   ],
   "source": [
    "y_pred_test = clf.predict(X_test)\n",
    "p, r, f, se, sp = metrics_score(y_test, y_pred_test)\n"
   ]
  },
  {
   "cell_type": "code",
   "execution_count": 40,
   "id": "9e5c24bf",
   "metadata": {
    "execution": {
     "iopub.execute_input": "2024-04-07T08:16:21.646970Z",
     "iopub.status.busy": "2024-04-07T08:16:21.646233Z",
     "iopub.status.idle": "2024-04-07T08:16:21.652526Z",
     "shell.execute_reply": "2024-04-07T08:16:21.651663Z"
    },
    "papermill": {
     "duration": 0.041553,
     "end_time": "2024-04-07T08:16:21.655027",
     "exception": false,
     "start_time": "2024-04-07T08:16:21.613474",
     "status": "completed"
    },
    "tags": []
   },
   "outputs": [],
   "source": [
    "precision_list.append(p)\n",
    "recall_list.append(r)\n",
    "f1_list.append(f)\n",
    "sensitivity_list.append(se)\n",
    "specificity_list.append(sp)\n",
    "model_name_list.append(str(models[4]).split('(')[0])"
   ]
  },
  {
   "cell_type": "code",
   "execution_count": 41,
   "id": "a6dd6bae",
   "metadata": {
    "execution": {
     "iopub.execute_input": "2024-04-07T08:16:21.716656Z",
     "iopub.status.busy": "2024-04-07T08:16:21.715893Z",
     "iopub.status.idle": "2024-04-07T08:16:22.184083Z",
     "shell.execute_reply": "2024-04-07T08:16:22.183200Z"
    },
    "papermill": {
     "duration": 0.501395,
     "end_time": "2024-04-07T08:16:22.186476",
     "exception": false,
     "start_time": "2024-04-07T08:16:21.685081",
     "status": "completed"
    },
    "tags": []
   },
   "outputs": [
    {
     "name": "stdout",
     "output_type": "stream",
     "text": [
      "              precision    recall  f1-score   support\n",
      "\n",
      "           0       0.78      0.72      0.75      8000\n",
      "           1       0.74      0.80      0.77      8000\n",
      "\n",
      "    accuracy                           0.76     16000\n",
      "   macro avg       0.76      0.76      0.76     16000\n",
      "weighted avg       0.76      0.76      0.76     16000\n",
      "\n",
      "True Positives =  6407\n",
      "True Negatives =  5800\n",
      "Accuracy =  0.76\n",
      "False Positive Rate =  0.28\n",
      "False Negative Rate =  0.2\n",
      "Sensitivity (True Positive Rate)=  0.8\n",
      "Specificity (True Negative Rate) =  0.72\n",
      "Precision =  0.74\n",
      "Recall =  0.8\n",
      "F1 Score =  0.77\n",
      "Error Rate =  0.24\n"
     ]
    },
    {
     "data": {
      "image/png": "[encoded data removed]",
      "text/plain": [
       "<Figure size 1000x500 with 2 Axes>"
      ]
     },
     "metadata": {},
     "output_type": "display_data"
    }
   ],
   "source": [
    "clf = fit_model(models[5])"
   ]
  },
  {
   "cell_type": "code",
   "execution_count": 42,
   "id": "b69fc407",
   "metadata": {
    "execution": {
     "iopub.execute_input": "2024-04-07T08:16:22.249822Z",
     "iopub.status.busy": "2024-04-07T08:16:22.249202Z",
     "iopub.status.idle": "2024-04-07T08:16:22.642636Z",
     "shell.execute_reply": "2024-04-07T08:16:22.641394Z"
    },
    "papermill": {
     "duration": 0.428884,
     "end_time": "2024-04-07T08:16:22.646070",
     "exception": false,
     "start_time": "2024-04-07T08:16:22.217186",
     "status": "completed"
    },
    "tags": []
   },
   "outputs": [
    {
     "name": "stdout",
     "output_type": "stream",
     "text": [
      "              precision    recall  f1-score   support\n",
      "\n",
      "           0       0.78      0.69      0.73      2000\n",
      "           1       0.72      0.80      0.76      2000\n",
      "\n",
      "    accuracy                           0.75      4000\n",
      "   macro avg       0.75      0.75      0.75      4000\n",
      "weighted avg       0.75      0.75      0.75      4000\n",
      "\n",
      "True Positives =  1600\n",
      "True Negatives =  1387\n",
      "Accuracy =  0.75\n",
      "False Positive Rate =  0.31\n",
      "False Negative Rate =  0.2\n",
      "Sensitivity (True Positive Rate)=  0.8\n",
      "Specificity (True Negative Rate) =  0.69\n",
      "Precision =  0.72\n",
      "Recall =  0.8\n",
      "F1 Score =  0.76\n",
      "Error Rate =  0.25\n"
     ]
    },
    {
     "data": {
      "image/png": "[encoded data removed]",
      "text/plain": [
       "<Figure size 1000x500 with 2 Axes>"
      ]
     },
     "metadata": {},
     "output_type": "display_data"
    }
   ],
   "source": [
    "y_pred_test = clf.predict(X_test)\n",
    "p, r, f, se, sp = metrics_score(y_test, y_pred_test)\n"
   ]
  },
  {
   "cell_type": "code",
   "execution_count": 43,
   "id": "f43a5bf9",
   "metadata": {
    "execution": {
     "iopub.execute_input": "2024-04-07T08:16:22.710374Z",
     "iopub.status.busy": "2024-04-07T08:16:22.709454Z",
     "iopub.status.idle": "2024-04-07T08:16:22.716897Z",
     "shell.execute_reply": "2024-04-07T08:16:22.716017Z"
    },
    "papermill": {
     "duration": 0.042288,
     "end_time": "2024-04-07T08:16:22.719472",
     "exception": false,
     "start_time": "2024-04-07T08:16:22.677184",
     "status": "completed"
    },
    "tags": []
   },
   "outputs": [],
   "source": [
    "precision_list.append(p)\n",
    "recall_list.append(r)\n",
    "f1_list.append(f)\n",
    "sensitivity_list.append(se)\n",
    "specificity_list.append(sp)\n",
    "model_name_list.append(str(models[5]).split('(')[0])"
   ]
  },
  {
   "cell_type": "markdown",
   "id": "b4d27adb",
   "metadata": {
    "papermill": {
     "duration": 0.030883,
     "end_time": "2024-04-07T08:16:22.781164",
     "exception": false,
     "start_time": "2024-04-07T08:16:22.750281",
     "status": "completed"
    },
    "tags": []
   },
   "source": [
    "# Models Evaluations"
   ]
  },
  {
   "cell_type": "code",
   "execution_count": 44,
   "id": "5e4bdd85",
   "metadata": {
    "execution": {
     "iopub.execute_input": "2024-04-07T08:16:22.846157Z",
     "iopub.status.busy": "2024-04-07T08:16:22.845235Z",
     "iopub.status.idle": "2024-04-07T08:16:22.853892Z",
     "shell.execute_reply": "2024-04-07T08:16:22.852884Z"
    },
    "papermill": {
     "duration": 0.044223,
     "end_time": "2024-04-07T08:16:22.856646",
     "exception": false,
     "start_time": "2024-04-07T08:16:22.812423",
     "status": "completed"
    },
    "tags": []
   },
   "outputs": [],
   "source": [
    "# convert the lists for the scores to a dataframe named 'per_scores'\n",
    "per_scores = pd.DataFrame({\n",
    "    'Model': model_name_list,\n",
    "    'Recall': recall_list,\n",
    "    'Precision': precision_list,\n",
    "    'F1-Score': f1_list,\n",
    "    'Sensitivity': sensitivity_list,\n",
    "    'Specificity': specificity_list\n",
    "        },\n",
    "        columns = ['Model', 'Recall', 'Precision', 'F1-Score', 'Sensitivity', 'Specificity'])"
   ]
  },
  {
   "cell_type": "code",
   "execution_count": 45,
   "id": "f3512be9",
   "metadata": {
    "execution": {
     "iopub.execute_input": "2024-04-07T08:16:22.925690Z",
     "iopub.status.busy": "2024-04-07T08:16:22.924697Z",
     "iopub.status.idle": "2024-04-07T08:16:23.694962Z",
     "shell.execute_reply": "2024-04-07T08:16:23.693844Z"
    },
    "papermill": {
     "duration": 0.808841,
     "end_time": "2024-04-07T08:16:23.697857",
     "exception": false,
     "start_time": "2024-04-07T08:16:22.889016",
     "status": "completed"
    },
    "tags": []
   },
   "outputs": [
    {
     "data": {
      "image/png": "[encoded data removed]",
      "text/plain": [
       "<Figure size 1500x800 with 1 Axes>"
      ]
     },
     "metadata": {},
     "output_type": "display_data"
    }
   ],
   "source": [
    "# plot the figure with 15 x 8 size\n",
    "fig, ax = plt.subplots(figsize=(15,8))\n",
    "\n",
    "# Create the bar plot\n",
    "bars1 = ax.bar(x=np.arange(len(per_scores['Model'])), height=per_scores['Recall'], width=0.03, label='Recall')\n",
    "bars2 = ax.bar(x=np.arange(len(per_scores['Model']))+0.2, height=per_scores['Precision'], width=0.03, label='Precision')\n",
    "bars3 = ax.bar(x=np.arange(len(per_scores['Model']))+0.4, height=per_scores['F1-Score'], width=0.03, label='F1-Score')\n",
    "bars4 = ax.bar(x=np.arange(len(per_scores['Model']))+0.6, height=per_scores['Specificity'], width=0.03, label='Specificity')\n",
    "\n",
    "# Add a circle at the top of every bar\n",
    "for bar in bars1:\n",
    "    ax.scatter(bar.get_x() + bar.get_width() / 2, bar.get_height(), color='purple', s=50, zorder=2)\n",
    "    ax.text(bar.get_x() + bar.get_width() / 2, bar.get_height() +0.02, f'{bar.get_height():.2f}', ha='center', va='bottom')\n",
    "for bar in bars2:\n",
    "    ax.scatter(bar.get_x() + bar.get_width() / 2, bar.get_height(), color='purple', s=50, zorder=2)\n",
    "    ax.text(bar.get_x() + bar.get_width() / 2, bar.get_height() +0.02, f'{bar.get_height():.2f}', ha='center', va='bottom')\n",
    "for bar in bars3:\n",
    "    ax.scatter(bar.get_x() + bar.get_width() / 2, bar.get_height(), color='purple', s=50, zorder=2)\n",
    "    ax.text(bar.get_x() + bar.get_width() / 2, bar.get_height() +0.02, f'{bar.get_height():.2f}', ha='center', va='bottom')\n",
    "for bar in bars4:\n",
    "    ax.scatter(bar.get_x() + bar.get_width() / 2, bar.get_height(), color='purple', s=50, zorder=2)\n",
    "    ax.text(bar.get_x() + bar.get_width() / 2, bar.get_height() +0.02, f'{bar.get_height():.2f}', ha='center', va='bottom')\n",
    "\n",
    "# set the title\n",
    "plt.title('Performance Scores for Models on Test Data', fontsize = 14)\n",
    "\n",
    "# X axis label\n",
    "plt.xlabel('Model', fontsize = 12)\n",
    "\n",
    "# Y axis label\n",
    "plt.ylabel('Score', fontsize = 12)\n",
    "\n",
    "# rotate x axis labels for better visualisation on the axis\n",
    "plt.xticks(np.arange(len(per_scores['Model'])) + 0.15, per_scores['Model'], rotation=45)\n",
    "\n",
    "ax.legend(loc='upper right', bbox_to_anchor=(1.14, 1),\n",
    "          ncol=1, fancybox=True, shadow=True)\n",
    "\n",
    "plt.show()\n"
   ]
  },
  {
   "cell_type": "code",
   "execution_count": null,
   "id": "c866f58e",
   "metadata": {
    "papermill": {
     "duration": 0.031989,
     "end_time": "2024-04-07T08:16:23.762264",
     "exception": false,
     "start_time": "2024-04-07T08:16:23.730275",
     "status": "completed"
    },
    "tags": []
   },
   "outputs": [],
   "source": []
  }
 ],
 "metadata": {
  "kaggle": {
   "accelerator": "none",
   "dataSources": [
    {
     "datasetId": 2093157,
     "sourceId": 6641062,
     "sourceType": "datasetVersion"
    }
   ],
   "dockerImageVersionId": 30674,
   "isGpuEnabled": false,
   "isInternetEnabled": true,
   "language": "python",
   "sourceType": "notebook"
  },
  "kernelspec": {
   "display_name": "Python 3 (ipykernel)",
   "language": "python",
   "name": "python3"
  },
  "language_info": {
   "codemirror_mode": {
    "name": "ipython",
    "version": 3
   },
   "file_extension": ".py",
   "mimetype": "text/x-python",
   "name": "python",
   "nbconvert_exporter": "python",
   "pygments_lexer": "ipython3",
   "version": "3.11.5"
  },
  "papermill": {
   "default_parameters": {},
   "duration": 4006.274097,
   "end_time": "2024-04-07T08:16:25.733941",
   "environment_variables": {},
   "exception": null,
   "input_path": "__notebook__.ipynb",
   "output_path": "__notebook__.ipynb",
   "parameters": {},
   "start_time": "2024-04-07T07:09:39.459844",
   "version": "2.5.0"
  }
 },
 "nbformat": 4,
 "nbformat_minor": 5
}
